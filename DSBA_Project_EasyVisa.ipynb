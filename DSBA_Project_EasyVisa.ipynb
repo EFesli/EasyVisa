{
 "cells": [
  {
   "cell_type": "markdown",
   "id": "5i1Du122jTeM",
   "metadata": {
    "id": "5i1Du122jTeM"
   },
   "source": [
    "## EasyVisa Project\n"
   ]
  },
  {
   "cell_type": "markdown",
   "id": "2xUfZBo9JM9e",
   "metadata": {
    "id": "2xUfZBo9JM9e"
   },
   "source": [
    "## Problem Statement"
   ]
  },
  {
   "cell_type": "markdown",
   "id": "empty-shanghai",
   "metadata": {
    "id": "empty-shanghai"
   },
   "source": [
    "### Context:\n",
    "\n",
    "Business communities in the United States are facing high demand for human resources, but one of the constant challenges is identifying and attracting the right talent, which is perhaps the most important element in remaining competitive. Companies in the United States look for hard-working, talented, and qualified individuals both locally as well as abroad.\n",
    "\n",
    "The Immigration and Nationality Act (INA) of the US permits foreign workers to come to the United States to work on either a temporary or permanent basis. The act also protects US workers against adverse impacts on their wages or working conditions by ensuring US employers' compliance with statutory requirements when they hire foreign workers to fill workforce shortages. The immigration programs are administered by the Office of Foreign Labor Certification (OFLC).\n",
    "\n",
    "OFLC processes job certification applications for employers seeking to bring foreign workers into the United States and grants certifications in those cases where employers can demonstrate that there are not sufficient US workers available to perform the work at wages that meet or exceed the wage paid for the occupation in the area of intended employment.\n",
    "\n",
    "### Objective:\n",
    "\n",
    "In FY 2016, the OFLC processed 775,979 employer applications for 1,699,957 positions for temporary and permanent labor certifications. This was a nine percent increase in the overall number of processed applications from the previous year. The process of reviewing every case is becoming a tedious task as the number of applicants is increasing every year.\n",
    "\n",
    "The increasing number of applicants every year calls for a Machine Learning based solution that can help in shortlisting the candidates having higher chances of VISA approval. OFLC has hired the firm EasyVisa for data-driven solutions. You as a data  scientist at EasyVisa have to analyze the data provided and, with the help of a classification model:\n",
    "\n",
    "* Facilitate the process of visa approvals.\n",
    "* Recommend a suitable profile for the applicants for whom the visa should be certified or denied based on the drivers that significantly influence the case status.\n",
    "\n",
    "### Data Description\n",
    "\n",
    "The data contains the different attributes of employee and the employer. The detailed data dictionary is given below.\n",
    "\n",
    "* case_id: ID of each visa application\n",
    "* continent: Information of continent the employee\n",
    "* education_of_employee: Information of education of the employee\n",
    "* has_job_experience: Does the employee has any job experience? Y= Yes; N = No\n",
    "* requires_job_training: Does the employee require any job training? Y = Yes; N = No\n",
    "* no_of_employees: Number of employees in the employer's company\n",
    "* yr_of_estab: Year in which the employer's company was established\n",
    "* region_of_employment: Information of foreign worker's intended region of employment in the US.\n",
    "* prevailing_wage:  Average wage paid to similarly employed workers in a specific occupation in the area of intended employment. The purpose of the prevailing wage is to ensure that the foreign worker is not underpaid compared to other workers offering the same or similar service in the same area of employment.\n",
    "* unit_of_wage: Unit of prevailing wage. Values include Hourly, Weekly, Monthly, and Yearly.\n",
    "* full_time_position: Is the position of work full-time? Y = Full Time Position; N = Part Time Position\n",
    "* case_status:  Flag indicating if the Visa was certified or denied"
   ]
  },
  {
   "cell_type": "markdown",
   "id": "c1cd4628",
   "metadata": {
    "id": "c1cd4628"
   },
   "source": [
    "## Importing necessary libraries"
   ]
  },
  {
   "cell_type": "code",
   "execution_count": 1,
   "id": "canadian-maple",
   "metadata": {
    "id": "canadian-maple"
   },
   "outputs": [
    {
     "ename": "ModuleNotFoundError",
     "evalue": "No module named 'xgboost'",
     "output_type": "error",
     "traceback": [
      "\u001b[0;31m---------------------------------------------------------------------------\u001b[0m",
      "\u001b[0;31mModuleNotFoundError\u001b[0m                       Traceback (most recent call last)",
      "Cell \u001b[0;32mIn[1], line 34\u001b[0m\n\u001b[1;32m     25\u001b[0m \u001b[38;5;66;03m# Libraries different ensemble classifiers\u001b[39;00m\n\u001b[1;32m     26\u001b[0m \u001b[38;5;28;01mfrom\u001b[39;00m \u001b[38;5;21;01msklearn\u001b[39;00m\u001b[38;5;21;01m.\u001b[39;00m\u001b[38;5;21;01mensemble\u001b[39;00m \u001b[38;5;28;01mimport\u001b[39;00m (\n\u001b[1;32m     27\u001b[0m     BaggingClassifier,\n\u001b[1;32m     28\u001b[0m     RandomForestClassifier,\n\u001b[0;32m   (...)\u001b[0m\n\u001b[1;32m     31\u001b[0m     StackingClassifier,\n\u001b[1;32m     32\u001b[0m )\n\u001b[0;32m---> 34\u001b[0m \u001b[38;5;28;01mfrom\u001b[39;00m \u001b[38;5;21;01mxgboost\u001b[39;00m \u001b[38;5;28;01mimport\u001b[39;00m XGBClassifier\n\u001b[1;32m     35\u001b[0m \u001b[38;5;28;01mfrom\u001b[39;00m \u001b[38;5;21;01msklearn\u001b[39;00m\u001b[38;5;21;01m.\u001b[39;00m\u001b[38;5;21;01mtree\u001b[39;00m \u001b[38;5;28;01mimport\u001b[39;00m DecisionTreeClassifier\n\u001b[1;32m     37\u001b[0m \u001b[38;5;66;03m# Libraries to get different metric scores\u001b[39;00m\n",
      "\u001b[0;31mModuleNotFoundError\u001b[0m: No module named 'xgboost'"
     ]
    }
   ],
   "source": [
    "# this will help in making the Python code more structured automatically (good coding practice)\n",
    "#%load_ext nb_black\n",
    "\n",
    "import warnings\n",
    "\n",
    "warnings.filterwarnings(\"ignore\")\n",
    "\n",
    "# Libraries to help with reading and manipulating data\n",
    "import numpy as np\n",
    "import pandas as pd\n",
    "\n",
    "# Library to split data\n",
    "from sklearn.model_selection import train_test_split\n",
    "\n",
    "# libaries to help with data visualization\n",
    "import matplotlib.pyplot as plt\n",
    "import seaborn as sns\n",
    "\n",
    "# Removes the limit for the number of displayed columns\n",
    "pd.set_option(\"display.max_columns\", None)\n",
    "# Sets the limit for the number of displayed rows\n",
    "pd.set_option(\"display.max_rows\", 100)\n",
    "\n",
    "\n",
    "# Libraries different ensemble classifiers\n",
    "from sklearn.ensemble import (\n",
    "    BaggingClassifier,\n",
    "    RandomForestClassifier,\n",
    "    AdaBoostClassifier,\n",
    "    GradientBoostingClassifier,\n",
    "    StackingClassifier,\n",
    ")\n",
    "\n",
    "from xgboost import XGBClassifier\n",
    "from sklearn.tree import DecisionTreeClassifier\n",
    "\n",
    "# Libraries to get different metric scores\n",
    "from sklearn import metrics\n",
    "from sklearn.metrics import (\n",
    "    confusion_matrix,\n",
    "    accuracy_score,\n",
    "    precision_score,\n",
    "    recall_score,\n",
    "    f1_score,\n",
    ")\n",
    "\n",
    "# To tune different models\n",
    "from sklearn.model_selection import GridSearchCV"
   ]
  },
  {
   "cell_type": "markdown",
   "id": "thorough-passion",
   "metadata": {
    "id": "thorough-passion"
   },
   "source": [
    "## Importing Dataset"
   ]
  },
  {
   "cell_type": "code",
   "execution_count": 3,
   "id": "ieMcKn9HPzhq",
   "metadata": {
    "id": "ieMcKn9HPzhq"
   },
   "outputs": [
    {
     "ename": "FileNotFoundError",
     "evalue": "[Errno 2] No such file or directory: 'EasyVisa.csv'",
     "output_type": "error",
     "traceback": [
      "\u001b[1;31m---------------------------------------------------------------------------\u001b[0m",
      "\u001b[1;31mFileNotFoundError\u001b[0m                         Traceback (most recent call last)",
      "Cell \u001b[1;32mIn[3], line 2\u001b[0m\n\u001b[0;32m      1\u001b[0m \u001b[38;5;66;03m# read the data\u001b[39;00m\n\u001b[1;32m----> 2\u001b[0m data \u001b[38;5;241m=\u001b[39m \u001b[43mpd\u001b[49m\u001b[38;5;241;43m.\u001b[39;49m\u001b[43mread_csv\u001b[49m\u001b[43m(\u001b[49m\u001b[38;5;124;43m'\u001b[39;49m\u001b[38;5;124;43mEasyVisa.csv\u001b[39;49m\u001b[38;5;124;43m'\u001b[39;49m\u001b[43m)\u001b[49m\n",
      "File \u001b[1;32m~\\Anaconda\\lib\\site-packages\\pandas\\util\\_decorators.py:211\u001b[0m, in \u001b[0;36mdeprecate_kwarg.<locals>._deprecate_kwarg.<locals>.wrapper\u001b[1;34m(*args, **kwargs)\u001b[0m\n\u001b[0;32m    209\u001b[0m     \u001b[38;5;28;01melse\u001b[39;00m:\n\u001b[0;32m    210\u001b[0m         kwargs[new_arg_name] \u001b[38;5;241m=\u001b[39m new_arg_value\n\u001b[1;32m--> 211\u001b[0m \u001b[38;5;28;01mreturn\u001b[39;00m func(\u001b[38;5;241m*\u001b[39margs, \u001b[38;5;241m*\u001b[39m\u001b[38;5;241m*\u001b[39mkwargs)\n",
      "File \u001b[1;32m~\\Anaconda\\lib\\site-packages\\pandas\\util\\_decorators.py:331\u001b[0m, in \u001b[0;36mdeprecate_nonkeyword_arguments.<locals>.decorate.<locals>.wrapper\u001b[1;34m(*args, **kwargs)\u001b[0m\n\u001b[0;32m    325\u001b[0m \u001b[38;5;28;01mif\u001b[39;00m \u001b[38;5;28mlen\u001b[39m(args) \u001b[38;5;241m>\u001b[39m num_allow_args:\n\u001b[0;32m    326\u001b[0m     warnings\u001b[38;5;241m.\u001b[39mwarn(\n\u001b[0;32m    327\u001b[0m         msg\u001b[38;5;241m.\u001b[39mformat(arguments\u001b[38;5;241m=\u001b[39m_format_argument_list(allow_args)),\n\u001b[0;32m    328\u001b[0m         \u001b[38;5;167;01mFutureWarning\u001b[39;00m,\n\u001b[0;32m    329\u001b[0m         stacklevel\u001b[38;5;241m=\u001b[39mfind_stack_level(),\n\u001b[0;32m    330\u001b[0m     )\n\u001b[1;32m--> 331\u001b[0m \u001b[38;5;28;01mreturn\u001b[39;00m func(\u001b[38;5;241m*\u001b[39margs, \u001b[38;5;241m*\u001b[39m\u001b[38;5;241m*\u001b[39mkwargs)\n",
      "File \u001b[1;32m~\\Anaconda\\lib\\site-packages\\pandas\\io\\parsers\\readers.py:950\u001b[0m, in \u001b[0;36mread_csv\u001b[1;34m(filepath_or_buffer, sep, delimiter, header, names, index_col, usecols, squeeze, prefix, mangle_dupe_cols, dtype, engine, converters, true_values, false_values, skipinitialspace, skiprows, skipfooter, nrows, na_values, keep_default_na, na_filter, verbose, skip_blank_lines, parse_dates, infer_datetime_format, keep_date_col, date_parser, dayfirst, cache_dates, iterator, chunksize, compression, thousands, decimal, lineterminator, quotechar, quoting, doublequote, escapechar, comment, encoding, encoding_errors, dialect, error_bad_lines, warn_bad_lines, on_bad_lines, delim_whitespace, low_memory, memory_map, float_precision, storage_options)\u001b[0m\n\u001b[0;32m    935\u001b[0m kwds_defaults \u001b[38;5;241m=\u001b[39m _refine_defaults_read(\n\u001b[0;32m    936\u001b[0m     dialect,\n\u001b[0;32m    937\u001b[0m     delimiter,\n\u001b[1;32m   (...)\u001b[0m\n\u001b[0;32m    946\u001b[0m     defaults\u001b[38;5;241m=\u001b[39m{\u001b[38;5;124m\"\u001b[39m\u001b[38;5;124mdelimiter\u001b[39m\u001b[38;5;124m\"\u001b[39m: \u001b[38;5;124m\"\u001b[39m\u001b[38;5;124m,\u001b[39m\u001b[38;5;124m\"\u001b[39m},\n\u001b[0;32m    947\u001b[0m )\n\u001b[0;32m    948\u001b[0m kwds\u001b[38;5;241m.\u001b[39mupdate(kwds_defaults)\n\u001b[1;32m--> 950\u001b[0m \u001b[38;5;28;01mreturn\u001b[39;00m \u001b[43m_read\u001b[49m\u001b[43m(\u001b[49m\u001b[43mfilepath_or_buffer\u001b[49m\u001b[43m,\u001b[49m\u001b[43m \u001b[49m\u001b[43mkwds\u001b[49m\u001b[43m)\u001b[49m\n",
      "File \u001b[1;32m~\\Anaconda\\lib\\site-packages\\pandas\\io\\parsers\\readers.py:605\u001b[0m, in \u001b[0;36m_read\u001b[1;34m(filepath_or_buffer, kwds)\u001b[0m\n\u001b[0;32m    602\u001b[0m _validate_names(kwds\u001b[38;5;241m.\u001b[39mget(\u001b[38;5;124m\"\u001b[39m\u001b[38;5;124mnames\u001b[39m\u001b[38;5;124m\"\u001b[39m, \u001b[38;5;28;01mNone\u001b[39;00m))\n\u001b[0;32m    604\u001b[0m \u001b[38;5;66;03m# Create the parser.\u001b[39;00m\n\u001b[1;32m--> 605\u001b[0m parser \u001b[38;5;241m=\u001b[39m TextFileReader(filepath_or_buffer, \u001b[38;5;241m*\u001b[39m\u001b[38;5;241m*\u001b[39mkwds)\n\u001b[0;32m    607\u001b[0m \u001b[38;5;28;01mif\u001b[39;00m chunksize \u001b[38;5;129;01mor\u001b[39;00m iterator:\n\u001b[0;32m    608\u001b[0m     \u001b[38;5;28;01mreturn\u001b[39;00m parser\n",
      "File \u001b[1;32m~\\Anaconda\\lib\\site-packages\\pandas\\io\\parsers\\readers.py:1442\u001b[0m, in \u001b[0;36mTextFileReader.__init__\u001b[1;34m(self, f, engine, **kwds)\u001b[0m\n\u001b[0;32m   1439\u001b[0m     \u001b[38;5;28mself\u001b[39m\u001b[38;5;241m.\u001b[39moptions[\u001b[38;5;124m\"\u001b[39m\u001b[38;5;124mhas_index_names\u001b[39m\u001b[38;5;124m\"\u001b[39m] \u001b[38;5;241m=\u001b[39m kwds[\u001b[38;5;124m\"\u001b[39m\u001b[38;5;124mhas_index_names\u001b[39m\u001b[38;5;124m\"\u001b[39m]\n\u001b[0;32m   1441\u001b[0m \u001b[38;5;28mself\u001b[39m\u001b[38;5;241m.\u001b[39mhandles: IOHandles \u001b[38;5;241m|\u001b[39m \u001b[38;5;28;01mNone\u001b[39;00m \u001b[38;5;241m=\u001b[39m \u001b[38;5;28;01mNone\u001b[39;00m\n\u001b[1;32m-> 1442\u001b[0m \u001b[38;5;28mself\u001b[39m\u001b[38;5;241m.\u001b[39m_engine \u001b[38;5;241m=\u001b[39m \u001b[38;5;28;43mself\u001b[39;49m\u001b[38;5;241;43m.\u001b[39;49m\u001b[43m_make_engine\u001b[49m\u001b[43m(\u001b[49m\u001b[43mf\u001b[49m\u001b[43m,\u001b[49m\u001b[43m \u001b[49m\u001b[38;5;28;43mself\u001b[39;49m\u001b[38;5;241;43m.\u001b[39;49m\u001b[43mengine\u001b[49m\u001b[43m)\u001b[49m\n",
      "File \u001b[1;32m~\\Anaconda\\lib\\site-packages\\pandas\\io\\parsers\\readers.py:1735\u001b[0m, in \u001b[0;36mTextFileReader._make_engine\u001b[1;34m(self, f, engine)\u001b[0m\n\u001b[0;32m   1733\u001b[0m     \u001b[38;5;28;01mif\u001b[39;00m \u001b[38;5;124m\"\u001b[39m\u001b[38;5;124mb\u001b[39m\u001b[38;5;124m\"\u001b[39m \u001b[38;5;129;01mnot\u001b[39;00m \u001b[38;5;129;01min\u001b[39;00m mode:\n\u001b[0;32m   1734\u001b[0m         mode \u001b[38;5;241m+\u001b[39m\u001b[38;5;241m=\u001b[39m \u001b[38;5;124m\"\u001b[39m\u001b[38;5;124mb\u001b[39m\u001b[38;5;124m\"\u001b[39m\n\u001b[1;32m-> 1735\u001b[0m \u001b[38;5;28mself\u001b[39m\u001b[38;5;241m.\u001b[39mhandles \u001b[38;5;241m=\u001b[39m \u001b[43mget_handle\u001b[49m\u001b[43m(\u001b[49m\n\u001b[0;32m   1736\u001b[0m \u001b[43m    \u001b[49m\u001b[43mf\u001b[49m\u001b[43m,\u001b[49m\n\u001b[0;32m   1737\u001b[0m \u001b[43m    \u001b[49m\u001b[43mmode\u001b[49m\u001b[43m,\u001b[49m\n\u001b[0;32m   1738\u001b[0m \u001b[43m    \u001b[49m\u001b[43mencoding\u001b[49m\u001b[38;5;241;43m=\u001b[39;49m\u001b[38;5;28;43mself\u001b[39;49m\u001b[38;5;241;43m.\u001b[39;49m\u001b[43moptions\u001b[49m\u001b[38;5;241;43m.\u001b[39;49m\u001b[43mget\u001b[49m\u001b[43m(\u001b[49m\u001b[38;5;124;43m\"\u001b[39;49m\u001b[38;5;124;43mencoding\u001b[39;49m\u001b[38;5;124;43m\"\u001b[39;49m\u001b[43m,\u001b[49m\u001b[43m \u001b[49m\u001b[38;5;28;43;01mNone\u001b[39;49;00m\u001b[43m)\u001b[49m\u001b[43m,\u001b[49m\n\u001b[0;32m   1739\u001b[0m \u001b[43m    \u001b[49m\u001b[43mcompression\u001b[49m\u001b[38;5;241;43m=\u001b[39;49m\u001b[38;5;28;43mself\u001b[39;49m\u001b[38;5;241;43m.\u001b[39;49m\u001b[43moptions\u001b[49m\u001b[38;5;241;43m.\u001b[39;49m\u001b[43mget\u001b[49m\u001b[43m(\u001b[49m\u001b[38;5;124;43m\"\u001b[39;49m\u001b[38;5;124;43mcompression\u001b[39;49m\u001b[38;5;124;43m\"\u001b[39;49m\u001b[43m,\u001b[49m\u001b[43m \u001b[49m\u001b[38;5;28;43;01mNone\u001b[39;49;00m\u001b[43m)\u001b[49m\u001b[43m,\u001b[49m\n\u001b[0;32m   1740\u001b[0m \u001b[43m    \u001b[49m\u001b[43mmemory_map\u001b[49m\u001b[38;5;241;43m=\u001b[39;49m\u001b[38;5;28;43mself\u001b[39;49m\u001b[38;5;241;43m.\u001b[39;49m\u001b[43moptions\u001b[49m\u001b[38;5;241;43m.\u001b[39;49m\u001b[43mget\u001b[49m\u001b[43m(\u001b[49m\u001b[38;5;124;43m\"\u001b[39;49m\u001b[38;5;124;43mmemory_map\u001b[39;49m\u001b[38;5;124;43m\"\u001b[39;49m\u001b[43m,\u001b[49m\u001b[43m \u001b[49m\u001b[38;5;28;43;01mFalse\u001b[39;49;00m\u001b[43m)\u001b[49m\u001b[43m,\u001b[49m\n\u001b[0;32m   1741\u001b[0m \u001b[43m    \u001b[49m\u001b[43mis_text\u001b[49m\u001b[38;5;241;43m=\u001b[39;49m\u001b[43mis_text\u001b[49m\u001b[43m,\u001b[49m\n\u001b[0;32m   1742\u001b[0m \u001b[43m    \u001b[49m\u001b[43merrors\u001b[49m\u001b[38;5;241;43m=\u001b[39;49m\u001b[38;5;28;43mself\u001b[39;49m\u001b[38;5;241;43m.\u001b[39;49m\u001b[43moptions\u001b[49m\u001b[38;5;241;43m.\u001b[39;49m\u001b[43mget\u001b[49m\u001b[43m(\u001b[49m\u001b[38;5;124;43m\"\u001b[39;49m\u001b[38;5;124;43mencoding_errors\u001b[39;49m\u001b[38;5;124;43m\"\u001b[39;49m\u001b[43m,\u001b[49m\u001b[43m \u001b[49m\u001b[38;5;124;43m\"\u001b[39;49m\u001b[38;5;124;43mstrict\u001b[39;49m\u001b[38;5;124;43m\"\u001b[39;49m\u001b[43m)\u001b[49m\u001b[43m,\u001b[49m\n\u001b[0;32m   1743\u001b[0m \u001b[43m    \u001b[49m\u001b[43mstorage_options\u001b[49m\u001b[38;5;241;43m=\u001b[39;49m\u001b[38;5;28;43mself\u001b[39;49m\u001b[38;5;241;43m.\u001b[39;49m\u001b[43moptions\u001b[49m\u001b[38;5;241;43m.\u001b[39;49m\u001b[43mget\u001b[49m\u001b[43m(\u001b[49m\u001b[38;5;124;43m\"\u001b[39;49m\u001b[38;5;124;43mstorage_options\u001b[39;49m\u001b[38;5;124;43m\"\u001b[39;49m\u001b[43m,\u001b[49m\u001b[43m \u001b[49m\u001b[38;5;28;43;01mNone\u001b[39;49;00m\u001b[43m)\u001b[49m\u001b[43m,\u001b[49m\n\u001b[0;32m   1744\u001b[0m \u001b[43m\u001b[49m\u001b[43m)\u001b[49m\n\u001b[0;32m   1745\u001b[0m \u001b[38;5;28;01massert\u001b[39;00m \u001b[38;5;28mself\u001b[39m\u001b[38;5;241m.\u001b[39mhandles \u001b[38;5;129;01mis\u001b[39;00m \u001b[38;5;129;01mnot\u001b[39;00m \u001b[38;5;28;01mNone\u001b[39;00m\n\u001b[0;32m   1746\u001b[0m f \u001b[38;5;241m=\u001b[39m \u001b[38;5;28mself\u001b[39m\u001b[38;5;241m.\u001b[39mhandles\u001b[38;5;241m.\u001b[39mhandle\n",
      "File \u001b[1;32m~\\Anaconda\\lib\\site-packages\\pandas\\io\\common.py:856\u001b[0m, in \u001b[0;36mget_handle\u001b[1;34m(path_or_buf, mode, encoding, compression, memory_map, is_text, errors, storage_options)\u001b[0m\n\u001b[0;32m    851\u001b[0m \u001b[38;5;28;01melif\u001b[39;00m \u001b[38;5;28misinstance\u001b[39m(handle, \u001b[38;5;28mstr\u001b[39m):\n\u001b[0;32m    852\u001b[0m     \u001b[38;5;66;03m# Check whether the filename is to be opened in binary mode.\u001b[39;00m\n\u001b[0;32m    853\u001b[0m     \u001b[38;5;66;03m# Binary mode does not support 'encoding' and 'newline'.\u001b[39;00m\n\u001b[0;32m    854\u001b[0m     \u001b[38;5;28;01mif\u001b[39;00m ioargs\u001b[38;5;241m.\u001b[39mencoding \u001b[38;5;129;01mand\u001b[39;00m \u001b[38;5;124m\"\u001b[39m\u001b[38;5;124mb\u001b[39m\u001b[38;5;124m\"\u001b[39m \u001b[38;5;129;01mnot\u001b[39;00m \u001b[38;5;129;01min\u001b[39;00m ioargs\u001b[38;5;241m.\u001b[39mmode:\n\u001b[0;32m    855\u001b[0m         \u001b[38;5;66;03m# Encoding\u001b[39;00m\n\u001b[1;32m--> 856\u001b[0m         handle \u001b[38;5;241m=\u001b[39m \u001b[38;5;28;43mopen\u001b[39;49m\u001b[43m(\u001b[49m\n\u001b[0;32m    857\u001b[0m \u001b[43m            \u001b[49m\u001b[43mhandle\u001b[49m\u001b[43m,\u001b[49m\n\u001b[0;32m    858\u001b[0m \u001b[43m            \u001b[49m\u001b[43mioargs\u001b[49m\u001b[38;5;241;43m.\u001b[39;49m\u001b[43mmode\u001b[49m\u001b[43m,\u001b[49m\n\u001b[0;32m    859\u001b[0m \u001b[43m            \u001b[49m\u001b[43mencoding\u001b[49m\u001b[38;5;241;43m=\u001b[39;49m\u001b[43mioargs\u001b[49m\u001b[38;5;241;43m.\u001b[39;49m\u001b[43mencoding\u001b[49m\u001b[43m,\u001b[49m\n\u001b[0;32m    860\u001b[0m \u001b[43m            \u001b[49m\u001b[43merrors\u001b[49m\u001b[38;5;241;43m=\u001b[39;49m\u001b[43merrors\u001b[49m\u001b[43m,\u001b[49m\n\u001b[0;32m    861\u001b[0m \u001b[43m            \u001b[49m\u001b[43mnewline\u001b[49m\u001b[38;5;241;43m=\u001b[39;49m\u001b[38;5;124;43m\"\u001b[39;49m\u001b[38;5;124;43m\"\u001b[39;49m\u001b[43m,\u001b[49m\n\u001b[0;32m    862\u001b[0m \u001b[43m        \u001b[49m\u001b[43m)\u001b[49m\n\u001b[0;32m    863\u001b[0m     \u001b[38;5;28;01melse\u001b[39;00m:\n\u001b[0;32m    864\u001b[0m         \u001b[38;5;66;03m# Binary mode\u001b[39;00m\n\u001b[0;32m    865\u001b[0m         handle \u001b[38;5;241m=\u001b[39m \u001b[38;5;28mopen\u001b[39m(handle, ioargs\u001b[38;5;241m.\u001b[39mmode)\n",
      "\u001b[1;31mFileNotFoundError\u001b[0m: [Errno 2] No such file or directory: 'EasyVisa.csv'"
     ]
    }
   ],
   "source": [
    "# read the data\n",
    "data = pd.read_csv('EasyVisa.csv')"
   ]
  },
  {
   "cell_type": "code",
   "execution_count": null,
   "id": "falling-annual",
   "metadata": {
    "id": "falling-annual"
   },
   "outputs": [],
   "source": [
    "# copy data to another variable to avoid any changes to original data\n",
    "df = data.copy()"
   ]
  },
  {
   "cell_type": "markdown",
   "id": "6vlJXoQkgcGI",
   "metadata": {
    "id": "6vlJXoQkgcGI"
   },
   "source": [
    "## Overview of the Dataset"
   ]
  },
  {
   "cell_type": "code",
   "execution_count": null,
   "id": "jt4gSwFZxW8P",
   "metadata": {
    "colab": {
     "base_uri": "https://localhost:8080/",
     "height": 226
    },
    "id": "jt4gSwFZxW8P",
    "outputId": "60e70ad0-6e94-45f6-e5d3-7ba813dbc7ea"
   },
   "outputs": [],
   "source": [
    "# return the first five rows\n",
    "df.head()"
   ]
  },
  {
   "cell_type": "code",
   "execution_count": null,
   "id": "PznEMaTixdZo",
   "metadata": {
    "colab": {
     "base_uri": "https://localhost:8080/",
     "height": 226
    },
    "id": "PznEMaTixdZo",
    "outputId": "4c8f4bee-6668-4820-81a1-8689d0631611"
   },
   "outputs": [],
   "source": [
    "# return the last five rows\n",
    "df.tail()"
   ]
  },
  {
   "cell_type": "code",
   "execution_count": null,
   "id": "e9FmgPrexi0c",
   "metadata": {
    "colab": {
     "base_uri": "https://localhost:8080/"
    },
    "id": "e9FmgPrexi0c",
    "outputId": "a2c74bec-8581-4715-e262-bc1c9978f035"
   },
   "outputs": [],
   "source": [
    "# return the number of rows by the number of columns\n",
    "df.shape"
   ]
  },
  {
   "cell_type": "markdown",
   "id": "4rlUt3n20wh0",
   "metadata": {
    "id": "4rlUt3n20wh0"
   },
   "source": [
    "* The dataset has 25480 rows and 12 columns of data"
   ]
  },
  {
   "cell_type": "code",
   "execution_count": null,
   "id": "x7LUABShxmSS",
   "metadata": {
    "colab": {
     "base_uri": "https://localhost:8080/"
    },
    "id": "x7LUABShxmSS",
    "outputId": "8e9e6fa5-794c-43e6-ecfa-8783a82fe1fd"
   },
   "outputs": [],
   "source": [
    "# print a concise summary of the DataFrame\n",
    "df.info()"
   ]
  },
  {
   "cell_type": "markdown",
   "id": "GKGnzIPg0Y5F",
   "metadata": {
    "id": "GKGnzIPg0Y5F"
   },
   "source": [
    "#Observations:\n"
   ]
  },
  {
   "cell_type": "markdown",
   "id": "rDzLCRfZ06lm",
   "metadata": {
    "id": "rDzLCRfZ06lm"
   },
   "source": [
    "* case_status is the dependent variable- type object.\n",
    "* Independent variables are in both type of the data, integer (3) and object (8)."
   ]
  },
  {
   "cell_type": "code",
   "execution_count": null,
   "id": "lRarNclixvBG",
   "metadata": {
    "colab": {
     "base_uri": "https://localhost:8080/"
    },
    "id": "lRarNclixvBG",
    "outputId": "0721f247-cdb7-458c-8d11-ea4efb0d5a05"
   },
   "outputs": [],
   "source": [
    "# check missing values across each columns\n",
    "df.isnull().sum()"
   ]
  },
  {
   "cell_type": "markdown",
   "id": "vM9WFemS1zqg",
   "metadata": {
    "id": "vM9WFemS1zqg"
   },
   "source": [
    "* There is no missing value in the data set."
   ]
  },
  {
   "cell_type": "code",
   "execution_count": null,
   "id": "Hohdg3C8x6kv",
   "metadata": {
    "colab": {
     "base_uri": "https://localhost:8080/"
    },
    "id": "Hohdg3C8x6kv",
    "outputId": "a031c6f0-b560-4a00-c336-558f3f45d248"
   },
   "outputs": [],
   "source": [
    "# check for duplicates\n",
    "duplicates = df.duplicated()\n",
    "# print the duplicated rows\n",
    "print(df[duplicates])"
   ]
  },
  {
   "cell_type": "markdown",
   "id": "jE28Spbl4rm-",
   "metadata": {
    "id": "jE28Spbl4rm-"
   },
   "source": [
    "* There is no dublicates."
   ]
  },
  {
   "cell_type": "code",
   "execution_count": null,
   "id": "gDF-jIXg4xFe",
   "metadata": {
    "colab": {
     "base_uri": "https://localhost:8080/"
    },
    "id": "gDF-jIXg4xFe",
    "outputId": "ac255ac3-9b25-43fe-daae-c9d6206cc45c"
   },
   "outputs": [],
   "source": [
    "# checking for unique values in ID column\n",
    "df[\"case_id\"].nunique()"
   ]
  },
  {
   "cell_type": "markdown",
   "id": "7OV2KZxt49in",
   "metadata": {
    "id": "7OV2KZxt49in"
   },
   "source": [
    "* Since all the values in **case_id** column are unique we can drop it"
   ]
  },
  {
   "cell_type": "code",
   "execution_count": null,
   "id": "oSZBkUedxtib",
   "metadata": {
    "id": "oSZBkUedxtib"
   },
   "outputs": [],
   "source": [
    "# drop \"case_id\" column\n",
    "columns_to_drop = [\"case_id\"]\n",
    "df = df.drop(columns_to_drop, axis=1)"
   ]
  },
  {
   "cell_type": "code",
   "execution_count": null,
   "id": "PReeYHMT54ll",
   "metadata": {
    "colab": {
     "base_uri": "https://localhost:8080/",
     "height": 226
    },
    "id": "PReeYHMT54ll",
    "outputId": "bf4fe53b-9729-4e7b-ffff-d0377b93a979"
   },
   "outputs": [],
   "source": [
    "df.head()\n"
   ]
  },
  {
   "cell_type": "markdown",
   "id": "seasonal-calibration",
   "metadata": {
    "id": "seasonal-calibration"
   },
   "source": [
    "## Exploratory Data Analysis (EDA)\n",
    "\n",
    "- EDA is an important part of any project involving data.\n",
    "- It is important to investigate and understand the data better before building a model with it.\n",
    "- A few questions have been mentioned below which will help you approach the analysis in the right manner and generate insights from the data.\n",
    "- A thorough analysis of the data, in addition to the questions mentioned below, should be done."
   ]
  },
  {
   "cell_type": "markdown",
   "id": "classified-traveler",
   "metadata": {
    "id": "classified-traveler"
   },
   "source": [
    "**Leading Questions**:\n",
    "1. Those with higher education may want to travel abroad for a well-paid job. Does education play a role in Visa certification?\n",
    "\n",
    "2. How does the visa status vary across different continents?\n",
    "\n",
    "3. Experienced professionals might look abroad for opportunities to improve their lifestyles and career development. Does work experience influence visa status?\n",
    "\n",
    "4. In the United States, employees are paid at different intervals. Which pay unit is most likely to be certified for a visa?\n",
    "\n",
    "5. The US government has established a prevailing wage to protect local talent and foreign workers. How does the visa status change with the prevailing wage?"
   ]
  },
  {
   "cell_type": "code",
   "execution_count": null,
   "id": "V-HXLdjTxzl4",
   "metadata": {
    "colab": {
     "base_uri": "https://localhost:8080/",
     "height": 394
    },
    "id": "V-HXLdjTxzl4",
    "outputId": "7e8db841-4eef-42d2-b870-dbbd4b0e9271"
   },
   "outputs": [],
   "source": [
    "# check statistical summary of the all data\n",
    "df.describe(include='all').T"
   ]
  },
  {
   "cell_type": "markdown",
   "id": "tbujqQ2y2D2J",
   "metadata": {
    "id": "tbujqQ2y2D2J"
   },
   "source": [
    "## Observations:\n",
    "* Majority of the employees applied from **Asia**\n",
    "* The most common education of employees is **Bachelors**\n",
    "* Most of the employees do not require training.\n",
    "* Unit wage is yearly for most of the employees.\n",
    "* Most of the employees aplied for full-time position."
   ]
  },
  {
   "cell_type": "code",
   "execution_count": null,
   "id": "-zTJamEGx2Pr",
   "metadata": {
    "colab": {
     "base_uri": "https://localhost:8080/",
     "height": 143
    },
    "id": "-zTJamEGx2Pr",
    "outputId": "7a03517a-01db-49ff-a309-c66d20f107c0"
   },
   "outputs": [],
   "source": [
    "# check statistical summary of the numerical data\n",
    "df.describe().T"
   ]
  },
  {
   "cell_type": "markdown",
   "id": "pViVUKpl3Qal",
   "metadata": {
    "id": "pViVUKpl3Qal"
   },
   "source": [
    "* Average prevailing wage is about 75,000 dollars.\n",
    "* 75% of the companys have number of employees that is less than 3504.\n"
   ]
  },
  {
   "cell_type": "markdown",
   "id": "alleged-spirituality",
   "metadata": {
    "id": "alleged-spirituality"
   },
   "source": [
    "## Data Preprocessing\n",
    "\n",
    "- Missing value treatment (if needed)\n",
    "- Feature engineering (if needed)\n",
    "- Outlier detection and treatment (if needed)\n",
    "- Preparing data for modeling\n",
    "- Any other preprocessing steps (if needed)"
   ]
  },
  {
   "cell_type": "markdown",
   "id": "difficult-union",
   "metadata": {
    "id": "difficult-union"
   },
   "source": [
    "## EDA\n",
    "\n",
    "- It is a good idea to explore the data once again after manipulating it."
   ]
  },
  {
   "cell_type": "markdown",
   "id": "competent-timing",
   "metadata": {
    "id": "competent-timing"
   },
   "source": [
    "#### Fixing the negative values in number of employees columns"
   ]
  },
  {
   "cell_type": "code",
   "execution_count": null,
   "id": "uav8QIzmZCg9",
   "metadata": {
    "id": "uav8QIzmZCg9"
   },
   "outputs": [],
   "source": [
    "negative_values = df[df['no_of_employees'] < 0]\n",
    "num_negative_values = negative_values.shape[0]\n"
   ]
  },
  {
   "cell_type": "code",
   "execution_count": null,
   "id": "C9DXJRz_ZUL5",
   "metadata": {
    "id": "C9DXJRz_ZUL5"
   },
   "outputs": [],
   "source": [
    "shape_of_negative_values = negative_values.shape\n"
   ]
  },
  {
   "cell_type": "code",
   "execution_count": null,
   "id": "zpZ44lQyZgNi",
   "metadata": {
    "id": "zpZ44lQyZgNi"
   },
   "outputs": [],
   "source": [
    "# write the function to convert the values to a positive number\n",
    "df[\"no_of_employees\"] = df[\"no_of_employees\"].abs()\n"
   ]
  },
  {
   "cell_type": "code",
   "execution_count": null,
   "id": "jmf16y-ZZ-8r",
   "metadata": {
    "colab": {
     "base_uri": "https://localhost:8080/",
     "height": 143
    },
    "id": "jmf16y-ZZ-8r",
    "outputId": "2a9800c7-8113-4244-9b8f-6ac4ae010fcb"
   },
   "outputs": [],
   "source": [
    "#lets check again.\n",
    "df.describe().T"
   ]
  },
  {
   "cell_type": "markdown",
   "id": "dJJg1FOeWhx5",
   "metadata": {
    "id": "dJJg1FOeWhx5"
   },
   "source": [
    "#### Let's check the count of each unique category in each of the categorical variables"
   ]
  },
  {
   "cell_type": "code",
   "execution_count": null,
   "id": "f6Q3jJEYWhx5",
   "metadata": {
    "colab": {
     "base_uri": "https://localhost:8080/"
    },
    "id": "f6Q3jJEYWhx5",
    "outputId": "c7c7551b-8a6e-4d65-ec20-464f73413481"
   },
   "outputs": [],
   "source": [
    "# Making a list of all catrgorical variables\n",
    "cat_col = list(df.select_dtypes(\"object\").columns)\n",
    "\n",
    "# Printing number of count of each unique value in each column\n",
    "for column in cat_col:\n",
    "    print(data[column].value_counts())\n",
    "    print(\"-\" * 50)"
   ]
  },
  {
   "cell_type": "markdown",
   "id": "nGxPqhj8Whx5",
   "metadata": {
    "id": "nGxPqhj8Whx5"
   },
   "source": [
    "### Univariate Analysis"
   ]
  },
  {
   "cell_type": "code",
   "execution_count": null,
   "id": "713Q7D0TaqzD",
   "metadata": {
    "id": "713Q7D0TaqzD"
   },
   "outputs": [],
   "source": [
    "# Lets write function to plot a boxplot and a histogram along the same scale.\n",
    "\n",
    "\n",
    "def histogram_boxplot(data, feature, figsize=(15, 10), kde=False, bins=None):\n",
    "    \"\"\"\n",
    "    Boxplot and histogram combined\n",
    "\n",
    "    data: dataframe\n",
    "    feature: dataframe column\n",
    "    figsize: size of figure (default (15,10))\n",
    "    kde: whether to show the density curve (default False)\n",
    "    bins: number of bins for histogram (default None)\n",
    "    \"\"\"\n",
    "    f2, (ax_box2, ax_hist2) = plt.subplots(\n",
    "        nrows=2,  # Number of rows of the subplot grid= 2\n",
    "        sharex=True,  # x-axis will be shared among all subplots\n",
    "        gridspec_kw={\"height_ratios\": (0.25, 0.75)},\n",
    "        figsize=figsize,\n",
    "    )  # creating the 2 subplots\n",
    "    sns.boxplot(\n",
    "        data=data, x=feature, ax=ax_box2, showmeans=True, color=\"violet\"\n",
    "    )  # boxplot will be created and a triangle will indicate the mean value of the column\n",
    "    sns.histplot(\n",
    "        data=data, x=feature, kde=kde, ax=ax_hist2, bins=bins\n",
    "    ) if bins else sns.histplot(\n",
    "        data=data, x=feature, kde=kde, ax=ax_hist2\n",
    "    )  # For histogram\n",
    "    ax_hist2.axvline(\n",
    "        data[feature].mean(), color=\"green\", linestyle=\"--\"\n",
    "    )  # Add mean to the histogram\n",
    "    ax_hist2.axvline(\n",
    "        data[feature].median(), color=\"black\", linestyle=\"-\"\n",
    "    )  # Add median to the histogram"
   ]
  },
  {
   "cell_type": "code",
   "execution_count": null,
   "id": "3LTjTct8aqzD",
   "metadata": {
    "id": "3LTjTct8aqzD"
   },
   "outputs": [],
   "source": [
    "# Lets write a function to create labeled barplots\n",
    "\n",
    "\n",
    "def labeled_barplot(data, feature, perc=False, n=None):\n",
    "    \"\"\"\n",
    "    Barplot with percentage at the top\n",
    "\n",
    "    data: dataframe\n",
    "    feature: dataframe column\n",
    "    perc: whether to display percentages instead of count (default is False)\n",
    "    n: displays the top n category levels (default is None, i.e., display all levels)\n",
    "    \"\"\"\n",
    "\n",
    "    total = len(data[feature])  # length of the column\n",
    "    count = data[feature].nunique()\n",
    "    if n is None:\n",
    "        plt.figure(figsize=(count + 2, 6))\n",
    "    else:\n",
    "        plt.figure(figsize=(n + 2, 6))\n",
    "\n",
    "    plt.xticks(rotation=90, fontsize=15)\n",
    "    ax = sns.countplot(\n",
    "        data=data,\n",
    "        x=feature,\n",
    "        palette=\"Paired\",\n",
    "        order=data[feature].value_counts().index[:n],\n",
    "    )\n",
    "\n",
    "    for p in ax.patches:\n",
    "        if perc == True:\n",
    "            label = \"{:.1f}%\".format(\n",
    "                100 * p.get_height() / total\n",
    "            )  # percentage of each class of the category\n",
    "        else:\n",
    "            label = p.get_height()  # count of each level of the category\n",
    "\n",
    "        x = p.get_x() + p.get_width() / 2  # width of the plot\n",
    "        y = p.get_height()  # height of the plot\n",
    "\n",
    "        ax.annotate(\n",
    "            label,\n",
    "            (x, y),\n",
    "            ha=\"center\",\n",
    "            va=\"center\",\n",
    "            size=12,\n",
    "            xytext=(0, 5),\n",
    "            textcoords=\"offset points\",\n",
    "        )  # annotate the percentage\n",
    "\n",
    "    plt.show()  # show the plot"
   ]
  },
  {
   "cell_type": "markdown",
   "id": "jHY6fCHNWhx5",
   "metadata": {
    "id": "jHY6fCHNWhx5"
   },
   "source": [
    "#### Observations on number of employees"
   ]
  },
  {
   "cell_type": "code",
   "execution_count": null,
   "id": "iQRX5W44Whx5",
   "metadata": {
    "colab": {
     "base_uri": "https://localhost:8080/",
     "height": 850
    },
    "id": "iQRX5W44Whx5",
    "outputId": "ba7e586c-e926-4ba9-bd1f-0462d06edce3"
   },
   "outputs": [],
   "source": [
    "histogram_boxplot(df, \"no_of_employees\")"
   ]
  },
  {
   "cell_type": "markdown",
   "id": "2k5o67SFWhx5",
   "metadata": {
    "id": "2k5o67SFWhx5"
   },
   "source": [
    "#### Observations on prevailing wage"
   ]
  },
  {
   "cell_type": "code",
   "execution_count": null,
   "id": "5Mzx9o9lWhx6",
   "metadata": {
    "colab": {
     "base_uri": "https://localhost:8080/",
     "height": 850
    },
    "id": "5Mzx9o9lWhx6",
    "outputId": "9d258907-cd80-4fdc-d325-4c735a77ceac"
   },
   "outputs": [],
   "source": [
    "histogram_boxplot(df, \"prevailing_wage\")"
   ]
  },
  {
   "cell_type": "markdown",
   "id": "B25ASw53bV37",
   "metadata": {
    "id": "B25ASw53bV37"
   },
   "source": [
    "Observations:\n",
    "* The distribution is right skewed.\n",
    "* Prevailing wage is very small for more than 2500 employees. There might be a mistake here.\n",
    "* Mean and median are close."
   ]
  },
  {
   "cell_type": "code",
   "execution_count": null,
   "id": "f_hKHZNvWhx6",
   "metadata": {
    "colab": {
     "base_uri": "https://localhost:8080/",
     "height": 478
    },
    "id": "f_hKHZNvWhx6",
    "outputId": "15320633-bca3-4e04-b371-247b3bcf60b6"
   },
   "outputs": [],
   "source": [
    "# check the observations which have less than 100 prevailing wage\n",
    "df.loc[df[\"prevailing_wage\"] < 100]"
   ]
  },
  {
   "cell_type": "code",
   "execution_count": null,
   "id": "mj3qQ21AdBS6",
   "metadata": {
    "colab": {
     "base_uri": "https://localhost:8080/"
    },
    "id": "mj3qQ21AdBS6",
    "outputId": "1b269f0e-2fc3-4c51-93b9-e85053a851c8"
   },
   "outputs": [],
   "source": [
    "# count of the values in the mentioned column\n",
    "count_values = df.loc[df[\"prevailing_wage\"] < 100, \"unit_of_wage\"].value_counts()\n",
    "print(count_values)\n"
   ]
  },
  {
   "cell_type": "markdown",
   "id": "vvO6Hc4GdWSA",
   "metadata": {
    "id": "vvO6Hc4GdWSA"
   },
   "source": [
    "* 176 prevailing wage values rae less than 100. And all are hourly rates which make sense."
   ]
  },
  {
   "cell_type": "markdown",
   "id": "QZ0oFP4eWhx6",
   "metadata": {
    "id": "QZ0oFP4eWhx6"
   },
   "source": [
    "#### Observations on continent"
   ]
  },
  {
   "cell_type": "code",
   "execution_count": null,
   "id": "8bRLGrOwWhx6",
   "metadata": {
    "colab": {
     "base_uri": "https://localhost:8080/",
     "height": 681
    },
    "id": "8bRLGrOwWhx6",
    "outputId": "24e0df01-29d0-4ca1-e546-44caf7bdf3ca"
   },
   "outputs": [],
   "source": [
    "labeled_barplot(df, \"continent\", perc=True)"
   ]
  },
  {
   "cell_type": "markdown",
   "id": "bS_J_xzXd1Ad",
   "metadata": {
    "id": "bS_J_xzXd1Ad"
   },
   "source": [
    "* 66% of the employees are applying from Asia."
   ]
  },
  {
   "cell_type": "markdown",
   "id": "-AJJddPSWhx6",
   "metadata": {
    "id": "-AJJddPSWhx6"
   },
   "source": [
    "#### Observations on education of employee"
   ]
  },
  {
   "cell_type": "code",
   "execution_count": null,
   "id": "XPTzIrb-Whx6",
   "metadata": {
    "colab": {
     "base_uri": "https://localhost:8080/",
     "height": 652
    },
    "id": "XPTzIrb-Whx6",
    "outputId": "dbbd0bdd-c505-4983-9a41-6306e11b207a"
   },
   "outputs": [],
   "source": [
    "labeled_barplot(df, 'education_of_employee', perc=True)"
   ]
  },
  {
   "cell_type": "markdown",
   "id": "3IBGvDxaem4W",
   "metadata": {
    "id": "3IBGvDxaem4W"
   },
   "source": [
    "* Most of the employees have Bachelor's or Masters degree.\n",
    "* Only 8.6 % of them have Doctorate degree."
   ]
  },
  {
   "cell_type": "markdown",
   "id": "Xv5H_-muWhx6",
   "metadata": {
    "id": "Xv5H_-muWhx6"
   },
   "source": [
    "#### Observations on job experience"
   ]
  },
  {
   "cell_type": "code",
   "execution_count": null,
   "id": "Owm5DzDnWhx7",
   "metadata": {
    "colab": {
     "base_uri": "https://localhost:8080/",
     "height": 543
    },
    "id": "Owm5DzDnWhx7",
    "outputId": "2e50d0ff-44f2-4b01-b8dd-f5334d728a31"
   },
   "outputs": [],
   "source": [
    "labeled_barplot(df, 'has_job_experience', perc=True)"
   ]
  },
  {
   "cell_type": "markdown",
   "id": "b1R5-rbKgKCJ",
   "metadata": {
    "id": "b1R5-rbKgKCJ"
   },
   "source": [
    "* More than half ( 58.1 %)of the employees have job experience."
   ]
  },
  {
   "cell_type": "markdown",
   "id": "nwiPKYuKWhx7",
   "metadata": {
    "id": "nwiPKYuKWhx7"
   },
   "source": [
    "#### Observations on job training"
   ]
  },
  {
   "cell_type": "code",
   "execution_count": null,
   "id": "09buBImNWhx7",
   "metadata": {
    "colab": {
     "base_uri": "https://localhost:8080/",
     "height": 543
    },
    "id": "09buBImNWhx7",
    "outputId": "bfb808d9-a92d-4c09-96e8-b3a3470bdd4d",
    "scrolled": false
   },
   "outputs": [],
   "source": [
    "labeled_barplot(df, 'requires_job_training', perc=True)"
   ]
  },
  {
   "cell_type": "markdown",
   "id": "oKOzkFPqgXDX",
   "metadata": {
    "id": "oKOzkFPqgXDX"
   },
   "source": [
    "* 88.4 % of the employees do not require job training."
   ]
  },
  {
   "cell_type": "markdown",
   "id": "OewJMnGPWhx7",
   "metadata": {
    "id": "OewJMnGPWhx7"
   },
   "source": [
    "#### Observations on region of employment"
   ]
  },
  {
   "cell_type": "code",
   "execution_count": null,
   "id": "2QNzj4GEWhx7",
   "metadata": {
    "colab": {
     "base_uri": "https://localhost:8080/",
     "height": 631
    },
    "id": "2QNzj4GEWhx7",
    "outputId": "12599cbc-869a-4613-883c-8af63f77ac40"
   },
   "outputs": [],
   "source": [
    "labeled_barplot(df, 'region_of_employment', perc=True)"
   ]
  },
  {
   "cell_type": "markdown",
   "id": "gLxa9J2-gjiQ",
   "metadata": {
    "id": "gLxa9J2-gjiQ"
   },
   "source": [
    "* Although Northeast has the highest interest of the employees, South and West has very close values."
   ]
  },
  {
   "cell_type": "markdown",
   "id": "3FBzp-hIWhx7",
   "metadata": {
    "id": "3FBzp-hIWhx7"
   },
   "source": [
    "#### Observations on unit of wage"
   ]
  },
  {
   "cell_type": "code",
   "execution_count": null,
   "id": "mKkGQ6eLWhx7",
   "metadata": {
    "colab": {
     "base_uri": "https://localhost:8080/",
     "height": 593
    },
    "id": "mKkGQ6eLWhx7",
    "outputId": "30d5fd33-c3c3-41f9-bb71-5d56ff39bbff"
   },
   "outputs": [],
   "source": [
    "labeled_barplot(df, 'unit_of_wage', perc=True)"
   ]
  },
  {
   "cell_type": "markdown",
   "id": "7EgsXGiHhB1D",
   "metadata": {
    "id": "7EgsXGiHhB1D"
   },
   "source": [
    "* 90 % of the unit wage is yearly."
   ]
  },
  {
   "cell_type": "markdown",
   "id": "Cg80Go_eWhx7",
   "metadata": {
    "id": "Cg80Go_eWhx7"
   },
   "source": [
    "#### Observations on case status"
   ]
  },
  {
   "cell_type": "code",
   "execution_count": null,
   "id": "zATetrytWhx7",
   "metadata": {
    "colab": {
     "base_uri": "https://localhost:8080/",
     "height": 617
    },
    "id": "zATetrytWhx7",
    "outputId": "a0209172-b7d5-4112-a0dc-92dd4670956c"
   },
   "outputs": [],
   "source": [
    "labeled_barplot(df, 'case_status', perc=True)"
   ]
  },
  {
   "cell_type": "markdown",
   "id": "YcoxsouihH5k",
   "metadata": {
    "id": "YcoxsouihH5k"
   },
   "source": [
    "* About 2/3 of the visa applications are certified."
   ]
  },
  {
   "cell_type": "markdown",
   "id": "comic-inventory",
   "metadata": {
    "id": "comic-inventory"
   },
   "source": []
  },
  {
   "cell_type": "markdown",
   "id": "equivalent-aging",
   "metadata": {
    "id": "equivalent-aging"
   },
   "source": [
    "### Bivariate Analysis"
   ]
  },
  {
   "cell_type": "code",
   "execution_count": null,
   "id": "8IGYjI-0h-0t",
   "metadata": {
    "colab": {
     "base_uri": "https://localhost:8080/",
     "height": 468
    },
    "id": "8IGYjI-0h-0t",
    "outputId": "32f7c968-d130-4495-d39f-6c8a52399e75"
   },
   "outputs": [],
   "source": [
    "# find the correlation between the variables\n",
    "cols_list = df.select_dtypes(include=np.number).columns.tolist()\n",
    "\n",
    "plt.figure(figsize=(10, 5))\n",
    "sns.heatmap(\n",
    "    df[cols_list].corr(), annot=True, vmin=-1, vmax=1, fmt=\".2f\", cmap=\"Spectral\"\n",
    ")\n",
    "plt.title('Correlation Heatmap of Numeric Variables')\n",
    "plt.show()\n"
   ]
  },
  {
   "cell_type": "markdown",
   "id": "QYvmEAoHjeKZ",
   "metadata": {
    "id": "QYvmEAoHjeKZ"
   },
   "source": [
    "* There is weak positive correlation between  prevailing wage and year of estab.\n",
    "* There is weak negative correlation between number of employees and year of estab.\n",
    "* There is weak negative correlation between number of employees and year of estab."
   ]
  },
  {
   "cell_type": "markdown",
   "id": "blond-convertible",
   "metadata": {
    "id": "blond-convertible"
   },
   "source": [
    "**Creating functions that will help us with further analysis.**"
   ]
  },
  {
   "cell_type": "code",
   "execution_count": null,
   "id": "adaptive-recipient",
   "metadata": {
    "id": "adaptive-recipient"
   },
   "outputs": [],
   "source": [
    "### function to plot distributions wrt target\n",
    "\n",
    "\n",
    "def distribution_plot_wrt_target(data, predictor, target):\n",
    "\n",
    "    fig, axs = plt.subplots(2, 2, figsize=(12, 10))\n",
    "\n",
    "    target_uniq = data[target].unique()\n",
    "\n",
    "    axs[0, 0].set_title(\"Distribution of target for target=\" + str(target_uniq[0]))\n",
    "    sns.histplot(\n",
    "        data=data[data[target] == target_uniq[0]],\n",
    "        x=predictor,\n",
    "        kde=True,\n",
    "        ax=axs[0, 0],\n",
    "        color=\"teal\",\n",
    "        stat=\"density\",\n",
    "    )\n",
    "\n",
    "    axs[0, 1].set_title(\"Distribution of target for target=\" + str(target_uniq[1]))\n",
    "    sns.histplot(\n",
    "        data=data[data[target] == target_uniq[1]],\n",
    "        x=predictor,\n",
    "        kde=True,\n",
    "        ax=axs[0, 1],\n",
    "        color=\"orange\",\n",
    "        stat=\"density\",\n",
    "    )\n",
    "\n",
    "    axs[1, 0].set_title(\"Boxplot w.r.t target\")\n",
    "    sns.boxplot(data=data, x=target, y=predictor, ax=axs[1, 0], palette=\"gist_rainbow\")\n",
    "\n",
    "    axs[1, 1].set_title(\"Boxplot (without outliers) w.r.t target\")\n",
    "    sns.boxplot(\n",
    "        data=data,\n",
    "        x=target,\n",
    "        y=predictor,\n",
    "        ax=axs[1, 1],\n",
    "        showfliers=False,\n",
    "        palette=\"gist_rainbow\",\n",
    "    )\n",
    "\n",
    "    plt.tight_layout()\n",
    "    plt.show()"
   ]
  },
  {
   "cell_type": "code",
   "execution_count": null,
   "id": "third-sheriff",
   "metadata": {
    "id": "third-sheriff"
   },
   "outputs": [],
   "source": [
    "def stacked_barplot(data, predictor, target):\n",
    "    \"\"\"\n",
    "    Print the category counts and plot a stacked bar chart\n",
    "\n",
    "    data: dataframe\n",
    "    predictor: independent variable\n",
    "    target: target variable\n",
    "    \"\"\"\n",
    "    count = data[predictor].nunique()\n",
    "    sorter = data[target].value_counts().index[-1]\n",
    "    tab1 = pd.crosstab(data[predictor], data[target], margins=True).sort_values(\n",
    "        by=sorter, ascending=False\n",
    "    )\n",
    "    print(tab1)\n",
    "    print(\"-\" * 120)\n",
    "    tab = pd.crosstab(data[predictor], data[target], normalize=\"index\").sort_values(\n",
    "        by=sorter, ascending=False\n",
    "    )\n",
    "    tab.plot(kind=\"bar\", stacked=True, figsize=(count + 5, 5))\n",
    "    plt.legend(\n",
    "        loc=\"lower left\", frameon=False,\n",
    "    )\n",
    "    plt.legend(loc=\"upper left\", bbox_to_anchor=(1, 1))\n",
    "    plt.show()"
   ]
  },
  {
   "cell_type": "markdown",
   "id": "dressed-excuse",
   "metadata": {
    "id": "dressed-excuse"
   },
   "source": [
    "#### Those with higher education may want to travel abroad for a well-paid job. Let's find out if education has any impact on visa certification"
   ]
  },
  {
   "cell_type": "code",
   "execution_count": null,
   "id": "special-florist",
   "metadata": {
    "colab": {
     "base_uri": "https://localhost:8080/",
     "height": 672
    },
    "id": "special-florist",
    "outputId": "b496397f-883e-4fd8-95b8-7c536e1e1e35"
   },
   "outputs": [],
   "source": [
    "stacked_barplot(df, \"education_of_employee\", \"case_status\")"
   ]
  },
  {
   "cell_type": "markdown",
   "id": "PjGW6z7ekbdC",
   "metadata": {
    "id": "PjGW6z7ekbdC"
   },
   "source": [
    "* Employees that has doctorate have highest rate of the Visa certification.\n",
    "* As level of degree increase, rate of the getting visa certified increase."
   ]
  },
  {
   "cell_type": "markdown",
   "id": "wound-communication",
   "metadata": {
    "id": "wound-communication"
   },
   "source": [
    "#### Different regions have different requirements of talent having diverse educational backgrounds. Let's analyze it further"
   ]
  },
  {
   "cell_type": "code",
   "execution_count": null,
   "id": "xHjnTE4wlAlE",
   "metadata": {
    "colab": {
     "base_uri": "https://localhost:8080/",
     "height": 487
    },
    "id": "xHjnTE4wlAlE",
    "outputId": "f4eb75c2-2c9e-4955-ffda-7eacbf03c314"
   },
   "outputs": [],
   "source": [
    "plt.figure(figsize=(10, 5))\n",
    "sns.heatmap(pd.crosstab(df['education_of_employee'], df['region_of_employment']),\n",
    "    annot=True,\n",
    "    fmt=\"g\",\n",
    "    cmap=\"viridis\"\n",
    ")\n",
    "\n",
    "plt.ylabel(\"Education\")\n",
    "plt.xlabel(\"Region\")\n",
    "plt.title(\"Crosstab Heatmap: Education vs Region of Employment\")\n",
    "plt.show()\n"
   ]
  },
  {
   "cell_type": "markdown",
   "id": "theoretical-flexibility",
   "metadata": {
    "id": "theoretical-flexibility"
   },
   "source": [
    "#### Let's have a look at the percentage of visa certifications across each region"
   ]
  },
  {
   "cell_type": "code",
   "execution_count": null,
   "id": "8fjGsMQil9QS",
   "metadata": {
    "colab": {
     "base_uri": "https://localhost:8080/",
     "height": 676
    },
    "id": "8fjGsMQil9QS",
    "outputId": "474e07a7-f24f-44e7-a208-8d0c62bfefd4"
   },
   "outputs": [],
   "source": [
    "stacked_barplot(df, \"region_of_employment\", \"case_status\")"
   ]
  },
  {
   "cell_type": "markdown",
   "id": "okg7rKztmRzD",
   "metadata": {
    "id": "okg7rKztmRzD"
   },
   "source": [
    "* Even though slightly higher, West region has the highest rate of that visa certified."
   ]
  },
  {
   "cell_type": "markdown",
   "id": "attended-current",
   "metadata": {
    "id": "attended-current"
   },
   "source": [
    "#### Lets' similarly check for the continents and find out how the visa status vary across different continents."
   ]
  },
  {
   "cell_type": "code",
   "execution_count": null,
   "id": "alive-bloom",
   "metadata": {
    "colab": {
     "base_uri": "https://localhost:8080/",
     "height": 727
    },
    "id": "alive-bloom",
    "outputId": "04e588e3-6717-4d7f-a75f-9bed97f59fcc"
   },
   "outputs": [],
   "source": [
    "stacked_barplot(df, \"continent\", \"case_status\")"
   ]
  },
  {
   "cell_type": "markdown",
   "id": "laXB-OzWnVMY",
   "metadata": {
    "id": "laXB-OzWnVMY"
   },
   "source": [
    "* Europe has the highest rate of that visa certified."
   ]
  },
  {
   "cell_type": "code",
   "execution_count": null,
   "id": "rzVP5iyem4DP",
   "metadata": {
    "colab": {
     "base_uri": "https://localhost:8080/",
     "height": 487
    },
    "id": "rzVP5iyem4DP",
    "outputId": "3876d561-3f95-42f4-e832-f56a4f887eb7"
   },
   "outputs": [],
   "source": [
    "plt.figure(figsize=(10, 5))\n",
    "sns.heatmap(pd.crosstab(df['education_of_employee'], df['continent']),\n",
    "    annot=True,\n",
    "    fmt=\"g\",\n",
    "    cmap=\"viridis\"\n",
    ")\n",
    "\n",
    "plt.ylabel(\"Education\")\n",
    "plt.xlabel(\"Region\")\n",
    "plt.title(\"Crosstab Heatmap: Education vs Region of Employment\")\n",
    "plt.show()\n"
   ]
  },
  {
   "cell_type": "markdown",
   "id": "macro-decrease",
   "metadata": {
    "id": "macro-decrease"
   },
   "source": [
    "#### Experienced professionals might look abroad for opportunities to improve their lifestyles and career development. Let's see if having work experience has any influence over visa certification"
   ]
  },
  {
   "cell_type": "code",
   "execution_count": null,
   "id": "divine-dimension",
   "metadata": {
    "colab": {
     "base_uri": "https://localhost:8080/",
     "height": 565
    },
    "id": "divine-dimension",
    "outputId": "c346a023-37af-49e7-a620-b9102e69dc2e"
   },
   "outputs": [],
   "source": [
    "stacked_barplot(df, \"has_job_experience\", \"case_status\")"
   ]
  },
  {
   "cell_type": "markdown",
   "id": "3NwBvXKfozVu",
   "metadata": {
    "id": "3NwBvXKfozVu"
   },
   "source": [
    "* Employees that have work experience more likely have visa."
   ]
  },
  {
   "cell_type": "markdown",
   "id": "binding-charger",
   "metadata": {
    "id": "binding-charger"
   },
   "source": [
    "#### Do the employees who have prior work experience require any job training?"
   ]
  },
  {
   "cell_type": "code",
   "execution_count": null,
   "id": "temporal-dairy",
   "metadata": {
    "colab": {
     "base_uri": "https://localhost:8080/",
     "height": 565
    },
    "id": "temporal-dairy",
    "outputId": "f9bc475d-0387-4f69-9490-9bb4f418ba81"
   },
   "outputs": [],
   "source": [
    "stacked_barplot(df, \"has_job_experience\", \"requires_job_training\")"
   ]
  },
  {
   "cell_type": "markdown",
   "id": "lesser-bacteria",
   "metadata": {
    "id": "lesser-bacteria"
   },
   "source": [
    "#### The US government has established a prevailing wage to protect local talent and foreign workers. Let's analyze the data and see if the visa status changes with the prevailing wage"
   ]
  },
  {
   "cell_type": "code",
   "execution_count": null,
   "id": "perfect-haiti",
   "metadata": {
    "colab": {
     "base_uri": "https://localhost:8080/",
     "height": 1000
    },
    "id": "perfect-haiti",
    "outputId": "e5de7fd5-fac0-4513-d3b0-7855c4ff8b4d"
   },
   "outputs": [],
   "source": [
    "distribution_plot_wrt_target(df, \"prevailing_wage\", \"case_status\")"
   ]
  },
  {
   "cell_type": "markdown",
   "id": "changing-kansas",
   "metadata": {
    "id": "changing-kansas"
   },
   "source": [
    "#### Checking if the prevailing wage is similar across all the regions of the US"
   ]
  },
  {
   "cell_type": "code",
   "execution_count": null,
   "id": "wq3fwUJlqgS_",
   "metadata": {
    "colab": {
     "base_uri": "https://localhost:8080/",
     "height": 487
    },
    "id": "wq3fwUJlqgS_",
    "outputId": "7616953d-fafd-4c8e-a8a9-31592bfa706c"
   },
   "outputs": [],
   "source": [
    "plt.figure(figsize=(10, 5))\n",
    "sns.boxplot(data=df, x='region_of_employment', y='prevailing_wage', palette='Set3')\n",
    "\n",
    "plt.title('Boxplot: Region of Employment vs Prevailing Wage')\n",
    "plt.xlabel('Region of Employment')\n",
    "plt.ylabel('Prevailing Wage')\n",
    "plt.show()\n"
   ]
  },
  {
   "cell_type": "markdown",
   "id": "N7tm0ZzCqoEq",
   "metadata": {
    "id": "N7tm0ZzCqoEq"
   },
   "source": [
    "* Although Midwest and Island are slighlty higher, other three regions have very close median of prevailing_wage."
   ]
  },
  {
   "cell_type": "markdown",
   "id": "suspected-asthma",
   "metadata": {
    "id": "suspected-asthma"
   },
   "source": [
    "#### The prevailing wage has different units (Hourly, Weekly, etc). Let's find out if it has any impact on visa applications getting certified."
   ]
  },
  {
   "cell_type": "code",
   "execution_count": null,
   "id": "impossible-aquatic",
   "metadata": {
    "colab": {
     "base_uri": "https://localhost:8080/",
     "height": 633
    },
    "id": "impossible-aquatic",
    "outputId": "1e932a8c-21e0-435b-9e06-5843a5270b54"
   },
   "outputs": [],
   "source": [
    "stacked_barplot(df, \"unit_of_wage\", \"case_status\") ## Complete the code to plot stacked barplot for unit of wage and case status"
   ]
  },
  {
   "cell_type": "markdown",
   "id": "CkYwtsW1rf_K",
   "metadata": {
    "id": "CkYwtsW1rf_K"
   },
   "source": [
    "* Employees applied jobs that have yaerly wage has higher rate of the getting the visa."
   ]
  },
  {
   "cell_type": "markdown",
   "id": "icaAgO2siAcs",
   "metadata": {
    "id": "icaAgO2siAcs"
   },
   "source": [
    "## Data Preprocessing"
   ]
  },
  {
   "cell_type": "markdown",
   "id": "allied-association",
   "metadata": {
    "id": "allied-association"
   },
   "source": [
    "### Outlier Check\n",
    "\n",
    "- Let's check for outliers in the data."
   ]
  },
  {
   "cell_type": "code",
   "execution_count": null,
   "id": "vDM9tcIgr-i2",
   "metadata": {
    "colab": {
     "base_uri": "https://localhost:8080/",
     "height": 433
    },
    "id": "vDM9tcIgr-i2",
    "outputId": "50625a11-83bc-4e11-9562-795844960366"
   },
   "outputs": [],
   "source": [
    "numeric_columns = data.select_dtypes(include=np.number).columns.tolist()\n",
    "\n",
    "plt.figure(figsize=(15, 12))\n",
    "\n",
    "for i, variable in enumerate(numeric_columns, 1):\n",
    "    plt.subplot(3, 3, i)\n",
    "    sns.boxplot(data=data, y=variable, palette='Set2')\n",
    "    plt.title(f'Boxplot: {variable}')\n",
    "\n",
    "plt.tight_layout()\n",
    "plt.show()\n"
   ]
  },
  {
   "cell_type": "markdown",
   "id": "W7ep_su3s7SW",
   "metadata": {
    "id": "W7ep_su3s7SW"
   },
   "source": [
    "* All numerical variables have outliers. But we will not treat them."
   ]
  },
  {
   "cell_type": "markdown",
   "id": "flexible-independence",
   "metadata": {
    "id": "flexible-independence"
   },
   "source": [
    "### Data Preparation for modeling\n",
    "\n",
    "- We want to predict which visa will be certified.\n",
    "- Before we proceed to build a model, we'll have to encode categorical features.\n",
    "- We'll split the data into train and test to be able to evaluate the model that we build on the train data."
   ]
  },
  {
   "cell_type": "code",
   "execution_count": null,
   "id": "hIQM_mb0tnIM",
   "metadata": {
    "id": "hIQM_mb0tnIM"
   },
   "outputs": [],
   "source": [
    "from sklearn.model_selection import train_test_split\n",
    "\n",
    "# Convert \"case_status\" to binary (1 for \"Certified\", 0 for others)\n",
    "df[\"case_status\"] = df[\"case_status\"].apply(lambda x: 1 if x == \"Certified\" else 0)\n",
    "\n",
    "# Drop the \"case_status\" column from the features\n",
    "X = df.drop(\"case_status\", axis=1)\n",
    "\n",
    "# Create dummy variables for categorical columns in X\n",
    "X = pd.get_dummies(X)\n",
    "\n",
    "# Split the data into train and test sets (70:30 ratio)\n",
    "X_train, X_test, y_train, y_test = train_test_split(X, data[\"case_status\"], test_size=0.3, random_state=1, stratify=data[\"case_status\"])\n"
   ]
  },
  {
   "cell_type": "code",
   "execution_count": null,
   "id": "empty-typing",
   "metadata": {
    "colab": {
     "base_uri": "https://localhost:8080/"
    },
    "id": "empty-typing",
    "outputId": "bc0b8c7a-a59a-496e-a0fb-5bdf2858cb5f"
   },
   "outputs": [],
   "source": [
    "print(\"Shape of Training set : \", X_train.shape)\n",
    "print(\"Shape of test set : \", X_test.shape)\n",
    "print(\"Percentage of classes in training set:\")\n",
    "print(y_train.value_counts(normalize=True))\n",
    "print(\"Percentage of classes in test set:\")\n",
    "print(y_test.value_counts(normalize=True))"
   ]
  },
  {
   "cell_type": "markdown",
   "id": "teKIRZIDdzpK",
   "metadata": {
    "id": "teKIRZIDdzpK"
   },
   "source": [
    "## Model evaluation criterion"
   ]
  },
  {
   "cell_type": "markdown",
   "id": "71450807",
   "metadata": {
    "id": "71450807"
   },
   "source": [
    "### Model can make wrong predictions as:\n",
    "\n",
    "1. Model predicts that the visa application will get certified but in reality, the visa application should get denied.\n",
    "2. Model predicts that the visa application will not get certified but in reality, the visa application should get certified.\n",
    "\n",
    "### Which case is more important?\n",
    "* Both the cases are important as:\n",
    "\n",
    "* If a visa is certified when it had to be denied a wrong employee will get the job position while US citizens will miss the opportunity to work on that position.\n",
    "\n",
    "* If a visa is denied when it had to be certified the U.S. will lose a suitable human resource that can contribute to the economy.\n",
    "\n",
    "\n",
    "\n",
    "### How to reduce the losses?\n",
    "\n",
    "* `F1 Score` can be used a the metric for evaluation of the model, greater the F1  score higher are the chances of minimizing False Negatives and False Positives.\n",
    "* We will use balanced class weights so that model focuses equally on both classes."
   ]
  },
  {
   "cell_type": "markdown",
   "id": "capital-charlotte",
   "metadata": {
    "id": "capital-charlotte"
   },
   "source": [
    "**First, let's create functions to calculate different metrics and confusion matrix so that we don't have to use the same code repeatedly for each model.**\n",
    "* The model_performance_classification_sklearn function will be used to check the model performance of models.\n",
    "* The confusion_matrix_sklearn function will be used to plot the confusion matrix."
   ]
  },
  {
   "cell_type": "code",
   "execution_count": null,
   "id": "mexican-database",
   "metadata": {
    "id": "mexican-database"
   },
   "outputs": [],
   "source": [
    "# define a function to compute different metrics to check performance of a classification model built using sklearn\n",
    "\n",
    "\n",
    "def model_performance_classification_sklearn(model, predictors, target):\n",
    "    \"\"\"\n",
    "    Function to compute different metrics to check classification model performance\n",
    "\n",
    "    model: classifier\n",
    "    predictors: independent variables\n",
    "    target: dependent variable\n",
    "    \"\"\"\n",
    "\n",
    "    # predicting using the independent variables\n",
    "    pred = model.predict(predictors)\n",
    "\n",
    "    acc = accuracy_score(target, pred)  # to compute Accuracy\n",
    "    recall = recall_score(target, pred)  # to compute Recall\n",
    "    precision = precision_score(target, pred)  # to compute Precision\n",
    "    f1 = f1_score(target, pred)  # to compute F1-score\n",
    "\n",
    "    # creating a dataframe of metrics\n",
    "    df_perf = pd.DataFrame(\n",
    "        {\"Accuracy\": acc, \"Recall\": recall, \"Precision\": precision, \"F1\": f1,},\n",
    "        index=[0],\n",
    "    )\n",
    "\n",
    "    return df_perf"
   ]
  },
  {
   "cell_type": "code",
   "execution_count": null,
   "id": "recreational-topic",
   "metadata": {
    "id": "recreational-topic"
   },
   "outputs": [],
   "source": [
    "def confusion_matrix_sklearn(model, predictors, target):\n",
    "    \"\"\"\n",
    "    To plot the confusion_matrix with percentages\n",
    "\n",
    "    model: classifier\n",
    "    predictors: independent variables\n",
    "    target: dependent variable\n",
    "    \"\"\"\n",
    "    y_pred = model.predict(predictors)\n",
    "    cm = confusion_matrix(target, y_pred)\n",
    "    labels = np.asarray(\n",
    "        [\n",
    "            [\"{0:0.0f}\".format(item) + \"\\n{0:.2%}\".format(item / cm.flatten().sum())]\n",
    "            for item in cm.flatten()\n",
    "        ]\n",
    "    ).reshape(2, 2)\n",
    "\n",
    "    plt.figure(figsize=(6, 4))\n",
    "    sns.heatmap(cm, annot=labels, fmt=\"\")\n",
    "    plt.ylabel(\"True label\")\n",
    "    plt.xlabel(\"Predicted label\")"
   ]
  },
  {
   "cell_type": "markdown",
   "id": "ICezcLI4iL0a",
   "metadata": {
    "id": "ICezcLI4iL0a"
   },
   "source": [
    "## Decision Tree - Model Building and Hyperparameter Tuning"
   ]
  },
  {
   "cell_type": "markdown",
   "id": "blank-ballet",
   "metadata": {
    "id": "blank-ballet"
   },
   "source": [
    "### Decision Tree Model"
   ]
  },
  {
   "cell_type": "code",
   "execution_count": null,
   "id": "hloMVKn3xm8C",
   "metadata": {
    "colab": {
     "base_uri": "https://localhost:8080/",
     "height": 75
    },
    "id": "hloMVKn3xm8C",
    "outputId": "56a29cec-8f5b-48c3-c461-4c61e5294490"
   },
   "outputs": [],
   "source": [
    "from sklearn.tree import DecisionTreeClassifier\n",
    "\n",
    "# Define the Decision Tree classifier\n",
    "model = DecisionTreeClassifier(random_state=1)\n",
    "\n",
    "# Fit the Decision Tree classifier on the training data\n",
    "model.fit(X_train, y_train)\n"
   ]
  },
  {
   "cell_type": "markdown",
   "id": "increasing-diversity",
   "metadata": {
    "id": "increasing-diversity"
   },
   "source": [
    "#### Checking model performance on training set"
   ]
  },
  {
   "cell_type": "code",
   "execution_count": null,
   "id": "iBcYBhj_yH1c",
   "metadata": {
    "colab": {
     "base_uri": "https://localhost:8080/",
     "height": 410
    },
    "id": "iBcYBhj_yH1c",
    "outputId": "2b8d9bef-3fc6-4c7c-e89b-c75b07fc83d3"
   },
   "outputs": [],
   "source": [
    "confusion_matrix_sklearn(model, X_train, y_train)\n",
    "plt.title('Confusion Matrix - Train Data')\n",
    "plt.show()\n"
   ]
  },
  {
   "cell_type": "markdown",
   "id": "GmaAcplAyX0M",
   "metadata": {
    "id": "GmaAcplAyX0M"
   },
   "source": [
    "* The decision tree is overfitting the training data.\n",
    "* Let's try hyperparameter tuning and see if the model performance improves."
   ]
  },
  {
   "cell_type": "code",
   "execution_count": null,
   "id": "xqjRGrj_K8I4",
   "metadata": {
    "id": "xqjRGrj_K8I4"
   },
   "outputs": [],
   "source": [
    "from sklearn.metrics import accuracy_score, recall_score, precision_score, f1_score\n",
    "\n",
    "def model_performance_classification_sklearn(model, predictors, target):\n",
    "    \"\"\"\n",
    "    Function to compute different metrics to check classification model performance\n",
    "\n",
    "    model: classifier\n",
    "    predictors: independent variables\n",
    "    target: dependent variable\n",
    "    \"\"\"\n",
    "\n",
    "    # predicting using the independent variables\n",
    "    pred = model.predict(predictors)\n",
    "\n",
    "    if isinstance(target.iloc[0], str):  # Check if true labels are strings\n",
    "        pred_labels = np.where(pred == 'Certified', 'Certified', 'Denied')\n",
    "    else:\n",
    "        pred_labels = np.where(pred == 1, 'Certified', 'Denied')\n",
    "\n",
    "    acc = accuracy_score(target, pred_labels)  # to compute Accuracy\n",
    "    recall = recall_score(target, pred_labels, pos_label='Certified')  # to compute Recall\n",
    "    precision = precision_score(target, pred_labels, pos_label='Certified')  # to compute Precision\n",
    "    f1 = f1_score(target, pred_labels, pos_label='Certified')  # to compute F1-score\n",
    "\n",
    "    # creating a dataframe of metrics\n",
    "    df_perf = pd.DataFrame(\n",
    "        {\"Accuracy\": acc, \"Recall\": recall, \"Precision\": precision, \"F1\": f1,},\n",
    "        index=[0],\n",
    "    )\n",
    "\n",
    "    return df_perf\n"
   ]
  },
  {
   "cell_type": "code",
   "execution_count": null,
   "id": "tv6ML6JvK_I0",
   "metadata": {
    "colab": {
     "base_uri": "https://localhost:8080/"
    },
    "id": "tv6ML6JvK_I0",
    "outputId": "491af3dd-5c61-4a14-d696-ba11256917a9"
   },
   "outputs": [],
   "source": [
    "decision_tree_perf_train = model_performance_classification_sklearn(model, X_train, y_train)\n",
    "print(decision_tree_perf_train)\n"
   ]
  },
  {
   "cell_type": "markdown",
   "id": "material-reduction",
   "metadata": {
    "id": "material-reduction"
   },
   "source": [
    "#### Checking model performance on test set"
   ]
  },
  {
   "cell_type": "code",
   "execution_count": null,
   "id": "UL1LxYdcLV7Y",
   "metadata": {
    "colab": {
     "base_uri": "https://localhost:8080/",
     "height": 410
    },
    "id": "UL1LxYdcLV7Y",
    "outputId": "553022a6-4227-47be-b709-b4892d2f4628"
   },
   "outputs": [],
   "source": [
    "confusion_matrix_sklearn(model, X_test, y_test)\n",
    "plt.title('Confusion Matrix - Test Data')\n",
    "plt.show()"
   ]
  },
  {
   "cell_type": "code",
   "execution_count": null,
   "id": "perceived-memorial",
   "metadata": {
    "colab": {
     "base_uri": "https://localhost:8080/",
     "height": 89
    },
    "id": "perceived-memorial",
    "outputId": "019e5c24-8b51-428a-9648-b4a185529e2d"
   },
   "outputs": [],
   "source": [
    "decision_tree_perf_test = model_performance_classification_sklearn(model, X_test, y_test)\n",
    "decision_tree_perf_test"
   ]
  },
  {
   "cell_type": "markdown",
   "id": "JKR_CitZMK6z",
   "metadata": {
    "id": "JKR_CitZMK6z"
   },
   "source": [
    "* F1 value in test data is not so high.\n",
    "* Let's try hyperparameter tuning and see if the model performance improves."
   ]
  },
  {
   "cell_type": "markdown",
   "id": "protected-romantic",
   "metadata": {
    "id": "protected-romantic"
   },
   "source": [
    "### Hyperparameter Tuning - Decision Tree"
   ]
  },
  {
   "cell_type": "code",
   "execution_count": null,
   "id": "tested-building",
   "metadata": {
    "colab": {
     "base_uri": "https://localhost:8080/",
     "height": 109
    },
    "id": "tested-building",
    "outputId": "317ebec8-5d61-48c3-b6de-f887a8457aa1"
   },
   "outputs": [],
   "source": [
    "# Choose the type of classifier.\n",
    "dtree_estimator = DecisionTreeClassifier(class_weight=\"balanced\", random_state=1)\n",
    "\n",
    "# Grid of parameters to choose from\n",
    "parameters = {\n",
    "    \"max_depth\": np.arange(10, 20, 5),\n",
    "    \"min_samples_leaf\": [3, 5],\n",
    "    \"max_leaf_nodes\": [2, 3, 5],\n",
    "    \"min_impurity_decrease\": [0.0001, 0.001],\n",
    "}\n",
    "\n",
    "# Type of scoring used to compare parameter combinations\n",
    "scorer = metrics.make_scorer(metrics.f1_score)\n",
    "\n",
    "# Run the grid search\n",
    "grid_obj = GridSearchCV(dtree_estimator, parameters, scoring=scorer,n_jobs=-1)\n",
    "\n",
    "grid_obj = grid_obj.fit(X_train, y_train)\n",
    "\n",
    "# Set the clf to the best combination of parameters\n",
    "dtree_estimator = grid_obj.best_estimator_\n",
    "\n",
    "# Fit the best algorithm to the data.\n",
    "dtree_estimator.fit(X_train, y_train)"
   ]
  },
  {
   "cell_type": "code",
   "execution_count": null,
   "id": "affected-thailand",
   "metadata": {
    "colab": {
     "base_uri": "https://localhost:8080/",
     "height": 388
    },
    "id": "affected-thailand",
    "outputId": "04881417-1c3f-49a6-9050-3b71ab76515d"
   },
   "outputs": [],
   "source": [
    "confusion_matrix_sklearn(dtree_estimator,X_test,y_test)"
   ]
  },
  {
   "cell_type": "code",
   "execution_count": null,
   "id": "SFjLCz7MOzP8",
   "metadata": {
    "colab": {
     "base_uri": "https://localhost:8080/",
     "height": 492
    },
    "id": "SFjLCz7MOzP8",
    "outputId": "b82a07c2-c9ef-4173-e3a2-bd829fc46203"
   },
   "outputs": [],
   "source": [
    "#Calculate different metrics\n",
    "dtree_estimator_model_train_perf=model_performance_classification_sklearn(dtree_estimator,X_train,y_train)\n",
    "print(\"Training performance:\\n\",dtree_estimator_model_train_perf)\n",
    "dtree_estimator_model_test_perf=model_performance_classification_sklearn(dtree_estimator,X_test,y_test)\n",
    "print(\"Testing performance:\\n\",dtree_estimator_model_test_perf)\n",
    "\n",
    "#Create confusion matrix\n",
    "confusion_matrix_sklearn(dtree_estimator,X_test,y_test)\n"
   ]
  },
  {
   "cell_type": "markdown",
   "id": "s2gBdlmJO63t",
   "metadata": {
    "id": "s2gBdlmJO63t"
   },
   "source": [
    "\n",
    "* The overfitting has reduced and the test f1-score has increased.\n",
    "* Let's try some other models."
   ]
  },
  {
   "cell_type": "markdown",
   "id": "FnQnoNOCiSwl",
   "metadata": {
    "id": "FnQnoNOCiSwl"
   },
   "source": [
    "## Bagging - Model Building and Hyperparameter Tuning"
   ]
  },
  {
   "cell_type": "markdown",
   "id": "aging-corruption",
   "metadata": {
    "id": "aging-corruption"
   },
   "source": [
    "### Bagging Classifier"
   ]
  },
  {
   "cell_type": "code",
   "execution_count": null,
   "id": "postal-angle",
   "metadata": {
    "colab": {
     "base_uri": "https://localhost:8080/",
     "height": 118
    },
    "id": "postal-angle",
    "outputId": "5639952d-274e-4bf4-c214-c742ebeebd24"
   },
   "outputs": [],
   "source": [
    "# Define the Bagging classifier\n",
    "bagging_classifier = BaggingClassifier(base_estimator=base_estimator, random_state=1)\n",
    "\n",
    "# Fit the Bagging classifier on the training data\n",
    "bagging_classifier.fit(X_train, y_train)\n"
   ]
  },
  {
   "cell_type": "markdown",
   "id": "suffering-growing",
   "metadata": {
    "id": "suffering-growing"
   },
   "source": [
    "#### Checking model performance on training set"
   ]
  },
  {
   "cell_type": "code",
   "execution_count": null,
   "id": "0gP2n_rRQrB1",
   "metadata": {
    "colab": {
     "base_uri": "https://localhost:8080/"
    },
    "id": "0gP2n_rRQrB1",
    "outputId": "849edaa7-1a82-4dab-b4cf-f3f57e2238c2"
   },
   "outputs": [],
   "source": [
    "bagging_classifier_model_train_perf=model_performance_classification_sklearn(bagging_classifier,X_train,y_train)\n",
    "print(bagging_classifier_model_train_perf)"
   ]
  },
  {
   "cell_type": "code",
   "execution_count": null,
   "id": "YW9PKvcRQx1-",
   "metadata": {
    "colab": {
     "base_uri": "https://localhost:8080/",
     "height": 388
    },
    "id": "YW9PKvcRQx1-",
    "outputId": "a832fe61-6d6a-43e0-8511-df577ebd3d5f"
   },
   "outputs": [],
   "source": [
    "confusion_matrix_sklearn(bagging_classifier,X_train,y_train)"
   ]
  },
  {
   "cell_type": "markdown",
   "id": "verified-obligation",
   "metadata": {
    "id": "verified-obligation"
   },
   "source": [
    "#### Checking model performance on test set"
   ]
  },
  {
   "cell_type": "code",
   "execution_count": null,
   "id": "handy-nature",
   "metadata": {
    "colab": {
     "base_uri": "https://localhost:8080/"
    },
    "id": "handy-nature",
    "outputId": "0fd0fb06-b935-4534-c547-cd3cf647c57b"
   },
   "outputs": [],
   "source": [
    "bagging_classifier_model_test_perf=model_performance_classification_sklearn(bagging_classifier,X_test,y_test)\n",
    "print(bagging_classifier_model_test_perf)"
   ]
  },
  {
   "cell_type": "code",
   "execution_count": null,
   "id": "weird-wesley",
   "metadata": {
    "colab": {
     "base_uri": "https://localhost:8080/",
     "height": 388
    },
    "id": "weird-wesley",
    "outputId": "41fa5830-0f7b-4dc7-a718-298498bb2311"
   },
   "outputs": [],
   "source": [
    "confusion_matrix_sklearn(bagging_classifier,X_test,y_test)"
   ]
  },
  {
   "cell_type": "markdown",
   "id": "BMgHsjuHRZUz",
   "metadata": {
    "id": "BMgHsjuHRZUz"
   },
   "source": [
    "* Bagging classifier is overfitting the training data.\n",
    "* Let's try hyperparameter tuning and see if the model performance improves."
   ]
  },
  {
   "cell_type": "markdown",
   "id": "increased-civilian",
   "metadata": {
    "id": "increased-civilian"
   },
   "source": [
    "### Hyperparameter Tuning - Bagging Classifier"
   ]
  },
  {
   "cell_type": "code",
   "execution_count": null,
   "id": "coastal-jefferson",
   "metadata": {
    "colab": {
     "base_uri": "https://localhost:8080/",
     "height": 92
    },
    "id": "coastal-jefferson",
    "outputId": "2901cdf8-5120-456f-d5b0-7816633dabee"
   },
   "outputs": [],
   "source": [
    "# Choose the type of classifier.\n",
    "bagging_estimator_tuned = BaggingClassifier(random_state=1)\n",
    "\n",
    "# Grid of parameters to choose from\n",
    "parameters = {\n",
    "    \"max_samples\": [0.7, 0.8],\n",
    "    \"max_features\": [0.5,0.7,1],\n",
    "    \"n_estimators\": np.arange(50,110,25),\n",
    "}\n",
    "\n",
    "# Type of scoring used to compare parameter combinations\n",
    "acc_scorer = metrics.make_scorer(metrics.f1_score)\n",
    "\n",
    "# Run the grid search\n",
    "grid_obj = GridSearchCV(bagging_estimator_tuned, parameters, scoring=scorer,cv=5)\n",
    "grid_obj = grid_obj.fit(X_train, y_train)\n",
    "\n",
    "\n",
    "# Set the clf to the best combination of parameters\n",
    "bagging_estimator_tuned = grid_obj.best_estimator_\n",
    "\n",
    "# Fit the best algorithm to the data.\n",
    "bagging_estimator_tuned.fit(X_train, y_train)"
   ]
  },
  {
   "cell_type": "markdown",
   "id": "protecting-douglas",
   "metadata": {
    "id": "protecting-douglas"
   },
   "source": [
    "#### Checking model performance on training set"
   ]
  },
  {
   "cell_type": "code",
   "execution_count": null,
   "id": "nominated-overhead",
   "metadata": {
    "colab": {
     "base_uri": "https://localhost:8080/"
    },
    "id": "nominated-overhead",
    "outputId": "94c222e2-0e1f-4567-e45d-41c5264db0ef"
   },
   "outputs": [],
   "source": [
    "bagging_estimator_tuned_model_train_perf=model_performance_classification_sklearn(bagging_estimator_tuned,X_train,y_train)\n",
    "print(bagging_estimator_tuned_model_train_perf)"
   ]
  },
  {
   "cell_type": "code",
   "execution_count": null,
   "id": "fundamental-newport",
   "metadata": {
    "colab": {
     "base_uri": "https://localhost:8080/",
     "height": 388
    },
    "id": "fundamental-newport",
    "outputId": "53013f81-2888-4cb2-c0a3-44fc3624c9b8"
   },
   "outputs": [],
   "source": [
    "# create confusion matrix for train data\n",
    "confusion_matrix_sklearn(bagging_estimator_tuned,X_train,y_train)"
   ]
  },
  {
   "cell_type": "markdown",
   "id": "elegant-bookmark",
   "metadata": {
    "id": "elegant-bookmark"
   },
   "source": [
    "#### Checking model performance on test set"
   ]
  },
  {
   "cell_type": "code",
   "execution_count": null,
   "id": "discrete-immigration",
   "metadata": {
    "colab": {
     "base_uri": "https://localhost:8080/"
    },
    "id": "discrete-immigration",
    "outputId": "79e6c354-c5f9-4f12-e165-a5da5f7ed8da"
   },
   "outputs": [],
   "source": [
    "bagging_estimator_tuned_model_test_perf=model_performance_classification_sklearn(bagging_estimator_tuned,X_test,y_test)\n",
    "print(bagging_estimator_tuned_model_test_perf)"
   ]
  },
  {
   "cell_type": "code",
   "execution_count": null,
   "id": "later-setup",
   "metadata": {
    "colab": {
     "base_uri": "https://localhost:8080/",
     "height": 388
    },
    "id": "later-setup",
    "outputId": "e4b483d1-765f-4af3-83e9-f78abe8950c8"
   },
   "outputs": [],
   "source": [
    "# create confusion matrix for test data on tuned estimator\n",
    "confusion_matrix_sklearn(bagging_estimator_tuned,X_test,y_test)"
   ]
  },
  {
   "cell_type": "markdown",
   "id": "sBTbokTnUZS7",
   "metadata": {
    "id": "sBTbokTnUZS7"
   },
   "source": [
    "* Model performance increased after hyperparameter tuning. F1 value increased to 81%"
   ]
  },
  {
   "cell_type": "markdown",
   "id": "colonial-society",
   "metadata": {
    "id": "colonial-society"
   },
   "source": [
    "### Random Forest"
   ]
  },
  {
   "cell_type": "code",
   "execution_count": null,
   "id": "Yew7TZe2VAWo",
   "metadata": {
    "colab": {
     "base_uri": "https://localhost:8080/",
     "height": 75
    },
    "id": "Yew7TZe2VAWo",
    "outputId": "dcd2cfab-8098-4369-f4d6-d0fd8907715d"
   },
   "outputs": [],
   "source": [
    "from sklearn.ensemble import RandomForestClassifier\n",
    "\n",
    "# Define the Random Forest classifier\n",
    "rf_estimator = RandomForestClassifier(random_state=1, class_weight='balanced')\n",
    "\n",
    "# Fit the Random Forest classifier on the training data\n",
    "rf_estimator.fit(X_train, y_train)\n"
   ]
  },
  {
   "cell_type": "markdown",
   "id": "possible-vinyl",
   "metadata": {
    "id": "possible-vinyl"
   },
   "source": [
    "#### Checking model performance on training set"
   ]
  },
  {
   "cell_type": "code",
   "execution_count": null,
   "id": "functioning-nigeria",
   "metadata": {
    "colab": {
     "base_uri": "https://localhost:8080/"
    },
    "id": "functioning-nigeria",
    "outputId": "bf91105f-9996-44ad-e05f-63286170cf03"
   },
   "outputs": [],
   "source": [
    "# Calculating different metrics\n",
    "rf_estimator_model_train_perf=model_performance_classification_sklearn(rf_estimator,X_train,y_train)\n",
    "print(\"Training performance:\\n\",rf_estimator_model_train_perf)"
   ]
  },
  {
   "cell_type": "code",
   "execution_count": null,
   "id": "nervous-ordering",
   "metadata": {
    "colab": {
     "base_uri": "https://localhost:8080/",
     "height": 388
    },
    "id": "nervous-ordering",
    "outputId": "45b7ccf9-3d63-46a9-8d57-0663ff8ea193"
   },
   "outputs": [],
   "source": [
    "# create confusion matrix for train data\n",
    "confusion_matrix_sklearn(rf_estimator, X_train, y_train)"
   ]
  },
  {
   "cell_type": "markdown",
   "id": "theoretical-poverty",
   "metadata": {
    "id": "theoretical-poverty"
   },
   "source": [
    "#### Checking model performance on test set"
   ]
  },
  {
   "cell_type": "code",
   "execution_count": null,
   "id": "pending-light",
   "metadata": {
    "colab": {
     "base_uri": "https://localhost:8080/"
    },
    "id": "pending-light",
    "outputId": "d91cccd1-cecc-474d-f49b-e141bb6a1837"
   },
   "outputs": [],
   "source": [
    "rf_estimator_model_test_perf=model_performance_classification_sklearn(rf_estimator,X_test,y_test)\n",
    "print(\"Testing performance:\\n\",rf_estimator_model_test_perf)"
   ]
  },
  {
   "cell_type": "code",
   "execution_count": null,
   "id": "meaning-crash",
   "metadata": {
    "colab": {
     "base_uri": "https://localhost:8080/",
     "height": 388
    },
    "id": "meaning-crash",
    "outputId": "8b274f63-682b-4c24-8b5b-48579c2110fa"
   },
   "outputs": [],
   "source": [
    "# create confusion matrix for test data\n",
    "confusion_matrix_sklearn(rf_estimator, X_test, y_test)"
   ]
  },
  {
   "cell_type": "markdown",
   "id": "SAXI75eyWUGq",
   "metadata": {
    "id": "SAXI75eyWUGq"
   },
   "source": [
    "* Random forest is overfitting the training data as there is significant difference between training and test scores for all the metrics."
   ]
  },
  {
   "cell_type": "markdown",
   "id": "beneficial-bosnia",
   "metadata": {
    "id": "beneficial-bosnia"
   },
   "source": [
    "### Hyperparameter Tuning - Random Forest"
   ]
  },
  {
   "cell_type": "code",
   "execution_count": null,
   "id": "interstate-jonathan",
   "metadata": {
    "colab": {
     "base_uri": "https://localhost:8080/",
     "height": 92
    },
    "id": "interstate-jonathan",
    "outputId": "893ee76d-76f6-4ed6-a932-a268bd5a0351"
   },
   "outputs": [],
   "source": [
    "# Choose the type of classifier.\n",
    "rf_tuned = RandomForestClassifier(random_state=1, oob_score=True, bootstrap=True)\n",
    "\n",
    "parameters = {\n",
    "    \"max_depth\": list(np.arange(5, 15, 5)),\n",
    "    \"max_features\": [\"sqrt\", \"log2\"],\n",
    "    \"min_samples_split\": [3, 5, 7],\n",
    "    \"n_estimators\": np.arange(10, 40, 10),\n",
    "}\n",
    "\n",
    "# Type of scoring used to compare parameter combinations\n",
    "acc_scorer = metrics.make_scorer(metrics.f1_score)\n",
    "\n",
    "# Run the grid search\n",
    "grid_obj = GridSearchCV(rf_tuned, parameters, scoring=scorer,cv=5,n_jobs=-1)\n",
    "grid_obj = grid_obj.fit(X_train, y_train)\n",
    "\n",
    "\n",
    "# Set the clf to the best combination of parameters\n",
    "rf_tuned = grid_obj.best_estimator_\n",
    "\n",
    "# Fit the best algorithm to the data.\n",
    "rf_tuned.fit(X_train, y_train)"
   ]
  },
  {
   "cell_type": "markdown",
   "id": "joint-appendix",
   "metadata": {
    "id": "joint-appendix"
   },
   "source": [
    "#### Checking model performance on training set"
   ]
  },
  {
   "cell_type": "code",
   "execution_count": null,
   "id": "minus-publication",
   "metadata": {
    "colab": {
     "base_uri": "https://localhost:8080/"
    },
    "id": "minus-publication",
    "outputId": "def9b5b4-5500-4202-9cab-7cd11db8f006"
   },
   "outputs": [],
   "source": [
    "# check performance for train data on tuned estimator\n",
    "rf_tuned_model_train_perf=model_performance_classification_sklearn(rf_tuned,X_train,y_train)\n",
    "print(\"Training performance:\\n\",rf_tuned_model_train_perf)"
   ]
  },
  {
   "cell_type": "code",
   "execution_count": null,
   "id": "broadband-issue",
   "metadata": {
    "colab": {
     "base_uri": "https://localhost:8080/",
     "height": 388
    },
    "id": "broadband-issue",
    "outputId": "c8b8e142-a7df-40aa-a608-fb77e0929c54"
   },
   "outputs": [],
   "source": [
    "# create confusion matrix for train data on tuned estimator\n",
    "confusion_matrix_sklearn(rf_tuned, X_train, y_train)"
   ]
  },
  {
   "cell_type": "markdown",
   "id": "joined-newman",
   "metadata": {
    "id": "joined-newman"
   },
   "source": [
    "#### Checking model performance on test set"
   ]
  },
  {
   "cell_type": "code",
   "execution_count": null,
   "id": "processed-capital",
   "metadata": {
    "colab": {
     "base_uri": "https://localhost:8080/"
    },
    "id": "processed-capital",
    "outputId": "9fb4a8b2-ec68-464e-a84d-23908ec517b3"
   },
   "outputs": [],
   "source": [
    "# check performance for test data on tuned estimator\n",
    "rf_tuned_model_test_perf=model_performance_classification_sklearn(rf_tuned,X_test,y_test)\n",
    "print(\"Testing performance:\\n\",rf_tuned_model_test_perf)"
   ]
  },
  {
   "cell_type": "code",
   "execution_count": null,
   "id": "higher-memphis",
   "metadata": {
    "colab": {
     "base_uri": "https://localhost:8080/",
     "height": 388
    },
    "id": "higher-memphis",
    "outputId": "3325c456-110e-4961-c445-4895d80b1bb6"
   },
   "outputs": [],
   "source": [
    "# create confusion matrix for test data on tuned estimator\n",
    "confusion_matrix_sklearn(rf_tuned, X_test, y_test)"
   ]
  },
  {
   "cell_type": "markdown",
   "id": "7JZy86W3ZG8-",
   "metadata": {
    "id": "7JZy86W3ZG8-"
   },
   "source": [
    "* There is no significant difference between train and test results."
   ]
  },
  {
   "cell_type": "markdown",
   "id": "p33jg7JVid1H",
   "metadata": {
    "id": "p33jg7JVid1H"
   },
   "source": [
    "## Boosting - Model Building and Hyperparameter Tuning"
   ]
  },
  {
   "cell_type": "markdown",
   "id": "divine-legend",
   "metadata": {
    "id": "divine-legend"
   },
   "source": [
    "### AdaBoost Classifier"
   ]
  },
  {
   "cell_type": "code",
   "execution_count": null,
   "id": "written-chicken",
   "metadata": {
    "colab": {
     "base_uri": "https://localhost:8080/",
     "height": 75
    },
    "id": "written-chicken",
    "outputId": "030aa091-e50a-48a0-d997-321d46652399"
   },
   "outputs": [],
   "source": [
    "# define AdaBoost Classifier with random state = 1\n",
    "ab_classifier = AdaBoostClassifier(random_state=1)\n",
    "# fit AdaBoost Classifier on the train data\n",
    "ab_classifier.fit(X_train,y_train)\n",
    "\n"
   ]
  },
  {
   "cell_type": "markdown",
   "id": "grand-popularity",
   "metadata": {
    "id": "grand-popularity"
   },
   "source": [
    "#### Checking model performance on training set"
   ]
  },
  {
   "cell_type": "code",
   "execution_count": null,
   "id": "forty-blame",
   "metadata": {
    "colab": {
     "base_uri": "https://localhost:8080/"
    },
    "id": "forty-blame",
    "outputId": "fffc4f83-79f9-4564-ac4c-165d75ff49ab"
   },
   "outputs": [],
   "source": [
    "ab_classifier_model_train_perf=model_performance_classification_sklearn(ab_classifier,X_train,y_train)\n",
    "print(ab_classifier_model_train_perf)"
   ]
  },
  {
   "cell_type": "code",
   "execution_count": null,
   "id": "fatty-primary",
   "metadata": {
    "colab": {
     "base_uri": "https://localhost:8080/",
     "height": 388
    },
    "id": "fatty-primary",
    "outputId": "f0ef69c6-dc4a-47dc-f8fd-eaa85e0a90c1"
   },
   "outputs": [],
   "source": [
    "confusion_matrix_sklearn(ab_classifier,X_train,y_train)"
   ]
  },
  {
   "cell_type": "markdown",
   "id": "LWepxMrOaN6G",
   "metadata": {
    "id": "LWepxMrOaN6G"
   },
   "source": [
    "* F1 value stays the same but overfitting on train data decreased."
   ]
  },
  {
   "cell_type": "markdown",
   "id": "french-breed",
   "metadata": {
    "id": "french-breed"
   },
   "source": [
    "#### Checking model performance on test set"
   ]
  },
  {
   "cell_type": "code",
   "execution_count": null,
   "id": "detailed-promise",
   "metadata": {
    "colab": {
     "base_uri": "https://localhost:8080/"
    },
    "id": "detailed-promise",
    "outputId": "e8a682c4-e9ca-4a5e-fdf5-69f7b478a28f"
   },
   "outputs": [],
   "source": [
    "ab_classifier_model_test_perf=model_performance_classification_sklearn(ab_classifier,X_test,y_test)\n",
    "print(ab_classifier_model_test_perf)\n"
   ]
  },
  {
   "cell_type": "code",
   "execution_count": null,
   "id": "enormous-musical",
   "metadata": {
    "colab": {
     "base_uri": "https://localhost:8080/",
     "height": 391
    },
    "id": "enormous-musical",
    "outputId": "ed987bf5-5d50-4f8c-a0b7-0404c6265712"
   },
   "outputs": [],
   "source": [
    "confusion_matrix_sklearn(ab_classifier,X_test,y_test)"
   ]
  },
  {
   "cell_type": "markdown",
   "id": "OE-Bq0NualPk",
   "metadata": {
    "id": "OE-Bq0NualPk"
   },
   "source": [
    "* Results are almost the same with training data"
   ]
  },
  {
   "cell_type": "markdown",
   "id": "increased-sharing",
   "metadata": {
    "id": "increased-sharing"
   },
   "source": [
    "### Hyperparameter Tuning - AdaBoost Classifier"
   ]
  },
  {
   "cell_type": "code",
   "execution_count": null,
   "id": "overall-grounds",
   "metadata": {
    "colab": {
     "base_uri": "https://localhost:8080/",
     "height": 118
    },
    "id": "overall-grounds",
    "outputId": "37fffa69-fb6e-4a7b-8b30-2db20c5fe8e0"
   },
   "outputs": [],
   "source": [
    "# Choose the type of classifier.\n",
    "abc_tuned = AdaBoostClassifier(random_state=1)\n",
    "\n",
    "# Grid of parameters to choose from\n",
    "parameters = {\n",
    "    # Let's try different max_depth for base_estimator\n",
    "    \"base_estimator\": [\n",
    "        DecisionTreeClassifier(max_depth=2,random_state=1),\n",
    "        DecisionTreeClassifier(max_depth=3,random_state=1),\n",
    "    ],\n",
    "    \"n_estimators\": np.arange(50,110,25),\n",
    "    \"learning_rate\": np.arange(0.01,0.1,0.05),\n",
    "}\n",
    "\n",
    "# Type of scoring used to compare parameter  combinations\n",
    "acc_scorer = metrics.make_scorer(metrics.f1_score)\n",
    "\n",
    "# Run the grid search\n",
    "grid_obj = GridSearchCV(abc_tuned, parameters, scoring=scorer,cv=5)\n",
    "grid_obj = grid_obj.fit(X_train, y_train)\n",
    "\n",
    "# Set the clf to the best combination of parameters\n",
    "abc_tuned = grid_obj.best_estimator_\n",
    "\n",
    "# Fit the best algorithm to the data.\n",
    "abc_tuned.fit(X_train, y_train)"
   ]
  },
  {
   "cell_type": "markdown",
   "id": "adolescent-carroll",
   "metadata": {
    "id": "adolescent-carroll"
   },
   "source": [
    "#### Checking model performance on training set"
   ]
  },
  {
   "cell_type": "code",
   "execution_count": null,
   "id": "broadband-dealer",
   "metadata": {
    "colab": {
     "base_uri": "https://localhost:8080/"
    },
    "id": "broadband-dealer",
    "outputId": "ae90185c-ddad-4fe8-e2fd-177ae00e1bde"
   },
   "outputs": [],
   "source": [
    "abc_tuned_model_train_perf=model_performance_classification_sklearn(abc_tuned,X_train,y_train)\n",
    "print(abc_tuned_model_train_perf)"
   ]
  },
  {
   "cell_type": "code",
   "execution_count": null,
   "id": "excessive-drilling",
   "metadata": {
    "colab": {
     "base_uri": "https://localhost:8080/",
     "height": 388
    },
    "id": "excessive-drilling",
    "outputId": "a12a7bba-7186-4588-d909-2e029e9e26f7"
   },
   "outputs": [],
   "source": [
    "confusion_matrix_sklearn(abc_tuned,X_train,y_train)"
   ]
  },
  {
   "cell_type": "markdown",
   "id": "fitting-cameroon",
   "metadata": {
    "id": "fitting-cameroon"
   },
   "source": [
    "#### Checking model performance on test set"
   ]
  },
  {
   "cell_type": "code",
   "execution_count": null,
   "id": "acting-edmonton",
   "metadata": {
    "colab": {
     "base_uri": "https://localhost:8080/"
    },
    "id": "acting-edmonton",
    "outputId": "f8e59964-24ef-488e-b4b3-0b4ca9ea9d5c"
   },
   "outputs": [],
   "source": [
    "abc_tuned_model_test_perf=model_performance_classification_sklearn(abc_tuned,X_test,y_test)\n",
    "print(abc_tuned_model_test_perf)"
   ]
  },
  {
   "cell_type": "code",
   "execution_count": null,
   "id": "central-forest",
   "metadata": {
    "colab": {
     "base_uri": "https://localhost:8080/",
     "height": 388
    },
    "id": "central-forest",
    "outputId": "5650c089-c257-4d2d-91a2-8ffc2657b405"
   },
   "outputs": [],
   "source": [
    "confusion_matrix_sklearn(abc_tuned,X_test,y_test)"
   ]
  },
  {
   "cell_type": "markdown",
   "id": "4Le6lKdUc9Rh",
   "metadata": {
    "id": "4Le6lKdUc9Rh"
   },
   "source": [
    "* Values are very close for train and test data."
   ]
  },
  {
   "cell_type": "markdown",
   "id": "married-terminal",
   "metadata": {
    "id": "married-terminal"
   },
   "source": [
    "### Gradient Boosting Classifier"
   ]
  },
  {
   "cell_type": "code",
   "execution_count": null,
   "id": "indian-pierre",
   "metadata": {
    "colab": {
     "base_uri": "https://localhost:8080/",
     "height": 75
    },
    "id": "indian-pierre",
    "outputId": "7024506a-7c9e-4fe5-f139-81dbeea79efa"
   },
   "outputs": [],
   "source": [
    "gb_classifier = GradientBoostingClassifier(random_state=1)\n",
    "gb_classifier.fit(X_train,y_train)"
   ]
  },
  {
   "cell_type": "markdown",
   "id": "fiscal-language",
   "metadata": {
    "id": "fiscal-language"
   },
   "source": [
    "#### Checking model performance on training set"
   ]
  },
  {
   "cell_type": "code",
   "execution_count": null,
   "id": "respected-belief",
   "metadata": {
    "colab": {
     "base_uri": "https://localhost:8080/"
    },
    "id": "respected-belief",
    "outputId": "8c2ae3fd-660d-4317-c014-42257df27327"
   },
   "outputs": [],
   "source": [
    "gb_classifier_model_train_perf=model_performance_classification_sklearn(gb_classifier,X_train,y_train)\n",
    "print(\"Training performance:\\n\",gb_classifier_model_train_perf)"
   ]
  },
  {
   "cell_type": "code",
   "execution_count": null,
   "id": "soviet-orange",
   "metadata": {
    "colab": {
     "base_uri": "https://localhost:8080/",
     "height": 388
    },
    "id": "soviet-orange",
    "outputId": "69ed3d7b-fe9b-4753-a93a-2bad41930c8d"
   },
   "outputs": [],
   "source": [
    "confusion_matrix_sklearn(gb_classifier,X_train,y_train)"
   ]
  },
  {
   "cell_type": "markdown",
   "id": "tribal-rainbow",
   "metadata": {
    "id": "tribal-rainbow"
   },
   "source": [
    "#### Checking model performance on test set"
   ]
  },
  {
   "cell_type": "code",
   "execution_count": null,
   "id": "blind-apparel",
   "metadata": {
    "colab": {
     "base_uri": "https://localhost:8080/"
    },
    "id": "blind-apparel",
    "outputId": "615cff1a-28b4-401f-f1d8-71d52fe11737"
   },
   "outputs": [],
   "source": [
    "gb_classifier_model_test_perf=model_performance_classification_sklearn(gb_classifier,X_test,y_test)\n",
    "print(\"Testing performance:\\n\",gb_classifier_model_test_perf)"
   ]
  },
  {
   "cell_type": "code",
   "execution_count": null,
   "id": "uniform-procedure",
   "metadata": {
    "colab": {
     "base_uri": "https://localhost:8080/",
     "height": 388
    },
    "id": "uniform-procedure",
    "outputId": "b4ad8424-9ed8-4ee4-c3da-53b5f1bb84f5"
   },
   "outputs": [],
   "source": [
    "confusion_matrix_sklearn(gb_classifier,X_test,y_test)"
   ]
  },
  {
   "cell_type": "markdown",
   "id": "xxiLgxbDdQ0k",
   "metadata": {
    "id": "xxiLgxbDdQ0k"
   },
   "source": [
    "* We received highest F1 value so far."
   ]
  },
  {
   "cell_type": "markdown",
   "id": "fuzzy-enemy",
   "metadata": {
    "id": "fuzzy-enemy"
   },
   "source": [
    "### Hyperparameter Tuning - Gradient Boosting Classifier"
   ]
  },
  {
   "cell_type": "code",
   "execution_count": null,
   "id": "based-bishop",
   "metadata": {
    "colab": {
     "base_uri": "https://localhost:8080/",
     "height": 118
    },
    "id": "based-bishop",
    "outputId": "91bfe6e9-bd29-44ac-b0bb-acc1f2be7419"
   },
   "outputs": [],
   "source": [
    "# Choose the type of classifier.\n",
    "gbc_tuned = GradientBoostingClassifier(\n",
    "    init=AdaBoostClassifier(random_state=1), random_state=1\n",
    ")\n",
    "\n",
    "# Grid of parameters to choose from\n",
    "parameters = {\n",
    "    \"n_estimators\": np.arange(50,110,25),\n",
    "    \"subsample\": [0.7,0.9],\n",
    "    \"max_features\": [0.7, 0.8, 0.9, 1],\n",
    "    \"learning_rate\": [0.01,0.1,0.05],\n",
    "}\n",
    "\n",
    "# Type of scoring used to compare parameter combinations\n",
    "acc_scorer = metrics.make_scorer(metrics.f1_score)\n",
    "\n",
    "# Run the grid search\n",
    "grid_obj = GridSearchCV(gbc_tuned, parameters, scoring=scorer,cv=5)\n",
    "grid_obj = grid_obj.fit(X_train, y_train)\n",
    "\n",
    "# Set the clf to the best combination of parameters\n",
    "gbc_tuned = grid_obj.best_estimator_\n",
    "\n",
    "# Fit the best algorithm to the data.\n",
    "gbc_tuned.fit(X_train, y_train)"
   ]
  },
  {
   "cell_type": "markdown",
   "id": "standard-islam",
   "metadata": {
    "id": "standard-islam"
   },
   "source": [
    "#### Checking model performance on training set"
   ]
  },
  {
   "cell_type": "code",
   "execution_count": null,
   "id": "passive-accent",
   "metadata": {
    "colab": {
     "base_uri": "https://localhost:8080/"
    },
    "id": "passive-accent",
    "outputId": "83c6c828-60a9-4588-d3e0-cb12294e5d2a"
   },
   "outputs": [],
   "source": [
    "gbc_tuned_model_train_perf=model_performance_classification_sklearn(gbc_tuned,X_train,y_train)\n",
    "print(\"Training performance:\\n\",gbc_tuned_model_train_perf)"
   ]
  },
  {
   "cell_type": "code",
   "execution_count": null,
   "id": "verbal-japanese",
   "metadata": {
    "colab": {
     "base_uri": "https://localhost:8080/",
     "height": 388
    },
    "id": "verbal-japanese",
    "outputId": "c738f6d4-392e-4775-df94-dafd60535138"
   },
   "outputs": [],
   "source": [
    "confusion_matrix_sklearn(gbc_tuned,X_train,y_train)"
   ]
  },
  {
   "cell_type": "markdown",
   "id": "subsequent-royalty",
   "metadata": {
    "id": "subsequent-royalty"
   },
   "source": [
    "#### Checking model performance on test set"
   ]
  },
  {
   "cell_type": "code",
   "execution_count": null,
   "id": "forward-perspective",
   "metadata": {
    "colab": {
     "base_uri": "https://localhost:8080/"
    },
    "id": "forward-perspective",
    "outputId": "e5afc173-2aae-4ead-dab6-3ea1c5f42f2d"
   },
   "outputs": [],
   "source": [
    "gbc_tuned_model_test_perf=model_performance_classification_sklearn(gbc_tuned,X_test,y_test)\n",
    "print(\"Testing performance:\\n\",gbc_tuned_model_test_perf)"
   ]
  },
  {
   "cell_type": "code",
   "execution_count": null,
   "id": "other-pharmaceutical",
   "metadata": {
    "colab": {
     "base_uri": "https://localhost:8080/",
     "height": 388
    },
    "id": "other-pharmaceutical",
    "outputId": "1580dd85-a01b-434b-b0d7-d928a41d60c1"
   },
   "outputs": [],
   "source": [
    "confusion_matrix_sklearn(gbc_tuned,X_test,y_test)"
   ]
  },
  {
   "cell_type": "markdown",
   "id": "disciplinary-manhattan",
   "metadata": {
    "id": "disciplinary-manhattan"
   },
   "source": [
    "## Stacking Classifier"
   ]
  },
  {
   "cell_type": "code",
   "execution_count": null,
   "id": "massive-cincinnati",
   "metadata": {
    "colab": {
     "base_uri": "https://localhost:8080/",
     "height": 205
    },
    "id": "massive-cincinnati",
    "outputId": "236f1e33-9c81-4460-fd56-8374d08e5307"
   },
   "outputs": [],
   "source": [
    "estimators = [\n",
    "    (\"AdaBoost\", ab_classifier),\n",
    "    (\"Bagging\", bagging_estimator_tuned),\n",
    "    (\"Random Forest\", rf_tuned),\n",
    "]\n",
    "\n",
    "final_estimator = gbc_tuned\n",
    "from sklearn.ensemble import StackingClassifier\n",
    "\n",
    "# Define the Stacking classifier\n",
    "stacking_classifier = StackingClassifier(\n",
    "    estimators=estimators,\n",
    "    final_estimator=final_estimator\n",
    ")\n",
    "\n",
    "# Fit the Stacking classifier on the training data\n",
    "stacking_classifier.fit(X_train, y_train)\n"
   ]
  },
  {
   "cell_type": "markdown",
   "id": "greek-jefferson",
   "metadata": {
    "id": "greek-jefferson"
   },
   "source": [
    "### Checking model performance on training set"
   ]
  },
  {
   "cell_type": "code",
   "execution_count": null,
   "id": "apparent-greenhouse",
   "metadata": {
    "colab": {
     "base_uri": "https://localhost:8080/"
    },
    "id": "apparent-greenhouse",
    "outputId": "7eaf0f35-c819-40c8-85e7-00f219b584ae"
   },
   "outputs": [],
   "source": [
    "stacking_classifier_model_train_perf=model_performance_classification_sklearn(stacking_classifier,X_train,y_train)\n",
    "print(\"Training performance:\\n\",stacking_classifier_model_train_perf)"
   ]
  },
  {
   "cell_type": "code",
   "execution_count": null,
   "id": "under-brazilian",
   "metadata": {
    "colab": {
     "base_uri": "https://localhost:8080/",
     "height": 388
    },
    "id": "under-brazilian",
    "outputId": "055cad4f-14cc-48a5-9b08-eba90360c68b"
   },
   "outputs": [],
   "source": [
    "confusion_matrix_sklearn(stacking_classifier,X_train,y_train)"
   ]
  },
  {
   "cell_type": "markdown",
   "id": "corrected-agency",
   "metadata": {
    "id": "corrected-agency"
   },
   "source": [
    "### Checking model performance on test set"
   ]
  },
  {
   "cell_type": "code",
   "execution_count": null,
   "id": "quantitative-neighborhood",
   "metadata": {
    "colab": {
     "base_uri": "https://localhost:8080/"
    },
    "id": "quantitative-neighborhood",
    "outputId": "b6d66fba-5fa0-4399-f5ee-e9bd77d58339"
   },
   "outputs": [],
   "source": [
    "stacking_classifier_model_test_perf=model_performance_classification_sklearn(stacking_classifier,X_test,y_test)\n",
    "print(\"Testing performance:\\n\",stacking_classifier_model_test_perf)"
   ]
  },
  {
   "cell_type": "code",
   "execution_count": null,
   "id": "empty-agent",
   "metadata": {
    "colab": {
     "base_uri": "https://localhost:8080/",
     "height": 388
    },
    "id": "empty-agent",
    "outputId": "ca0cec05-490c-4cb3-b159-c876eba34444"
   },
   "outputs": [],
   "source": [
    "confusion_matrix_sklearn(stacking_classifier,X_test,y_test)"
   ]
  },
  {
   "cell_type": "markdown",
   "id": "kpLbROlmrrNk",
   "metadata": {
    "id": "kpLbROlmrrNk"
   },
   "source": [
    "* This model performed well on both training and test data."
   ]
  },
  {
   "cell_type": "markdown",
   "id": "mechanical-clarity",
   "metadata": {
    "id": "mechanical-clarity"
   },
   "source": [
    "## Model Performance Comparison and Final Model Selection"
   ]
  },
  {
   "cell_type": "code",
   "execution_count": null,
   "id": "future-irrigation",
   "metadata": {
    "colab": {
     "base_uri": "https://localhost:8080/",
     "height": 210
    },
    "id": "future-irrigation",
    "outputId": "52bf2fa2-d113-4712-def0-2f0e0b002bf7"
   },
   "outputs": [],
   "source": [
    "# training performance comparison\n",
    "\n",
    "models_train_comp_df = pd.concat(\n",
    "    [\n",
    "        decision_tree_perf_train.T,\n",
    "        dtree_estimator_model_train_perf.T,\n",
    "        bagging_classifier_model_train_perf.T,\n",
    "        bagging_estimator_tuned_model_train_perf.T,\n",
    "        rf_estimator_model_train_perf.T,\n",
    "        rf_tuned_model_train_perf.T,\n",
    "        ab_classifier_model_train_perf.T,\n",
    "        abc_tuned_model_train_perf.T,\n",
    "        gb_classifier_model_train_perf.T,\n",
    "        gbc_tuned_model_train_perf.T,\n",
    "        stacking_classifier_model_train_perf.T,\n",
    "    ],\n",
    "    axis=1,\n",
    ")\n",
    "models_train_comp_df.columns = [\n",
    "    \"Decision Tree\",\n",
    "    \"Tuned Decision Tree\",\n",
    "    \"Bagging Classifier\",\n",
    "    \"Tuned Bagging Classifier\",\n",
    "    \"Random Forest\",\n",
    "    \"Tuned Random Forest\",\n",
    "    \"Adaboost Classifier\",\n",
    "    \"Tuned Adaboost Classifier\",\n",
    "    \"Gradient Boost Classifier\",\n",
    "    \"Tuned Gradient Boost Classifier\",\n",
    "    \"Stacking Classifier\",\n",
    "]\n",
    "print(\"Training performance comparison:\")\n",
    "models_train_comp_df"
   ]
  },
  {
   "cell_type": "code",
   "execution_count": null,
   "id": "collective-fireplace",
   "metadata": {
    "colab": {
     "base_uri": "https://localhost:8080/",
     "height": 227
    },
    "id": "collective-fireplace",
    "outputId": "81e6c502-758e-477b-dd75-5c60c7125eff"
   },
   "outputs": [],
   "source": [
    "# testing performance comparison\n",
    "\n",
    "\n",
    "models_test_comp_df = pd.concat(\n",
    "\n",
    "       [ decision_tree_perf_test.T,\n",
    "        dtree_estimator_model_test_perf.T,\n",
    "        rf_estimator_model_test_perf.T,\n",
    "        rf_tuned_model_test_perf.T,\n",
    "        bagging_classifier_model_test_perf.T,\n",
    "        bagging_estimator_tuned_model_test_perf.T,\n",
    "        ab_classifier_model_test_perf.T,\n",
    "        abc_tuned_model_test_perf.T,\n",
    "        gb_classifier_model_test_perf.T,\n",
    "        gbc_tuned_model_test_perf.T,\n",
    "        stacking_classifier_model_test_perf.T,],\n",
    "    axis=1,\n",
    ")\n",
    "models_test_comp_df.columns = [\n",
    "    \"Decision Tree\",\n",
    "    \"Decision Tree Estimator\",\n",
    "    \"Random Forest Estimator\",\n",
    "    \"Random Forest Tuned\",\n",
    "    \"Bagging Classifier\",\n",
    "    \"Bagging Estimator Tuned\",\n",
    "    \"Adaboost Classifier\",\n",
    "    \"Adabosst Classifier Tuned\",\n",
    "    \"Gradient Boost Classifier\",\n",
    "    \"Gradient Boost Classifier Tuned\",\n",
    "    \"Stacking Classifier\"]\n",
    "print(\"Testing performance comparison:\")\n",
    "models_test_comp_df"
   ]
  },
  {
   "cell_type": "markdown",
   "id": "04KqDldstyib",
   "metadata": {
    "id": "04KqDldstyib"
   },
   "source": [
    "* Gradient Boost Classifier has the highest F1 score (.8255)."
   ]
  },
  {
   "cell_type": "markdown",
   "id": "stone-venezuela",
   "metadata": {
    "id": "stone-venezuela"
   },
   "source": [
    "### Important features of the final model"
   ]
  },
  {
   "cell_type": "code",
   "execution_count": null,
   "id": "forty-mayor",
   "metadata": {
    "colab": {
     "base_uri": "https://localhost:8080/",
     "height": 1000
    },
    "id": "forty-mayor",
    "outputId": "645f983d-ce6e-4787-88e8-c64be6480784"
   },
   "outputs": [],
   "source": [
    "feature_names = X_train.columns\n",
    "importances = gb_classifier.feature_importances_\n",
    "indices = np.argsort(importances)\n",
    "\n",
    "plt.figure(figsize=(12, 12))\n",
    "plt.title(\"Feature Importances\")\n",
    "plt.barh(range(len(indices)), importances[indices], color=\"violet\", align=\"center\")\n",
    "plt.yticks(range(len(indices)), [feature_names[i] for i in indices])\n",
    "plt.xlabel(\"Relative Importance\")\n",
    "plt.show()"
   ]
  },
  {
   "cell_type": "markdown",
   "id": "rf0x8svT0G2r",
   "metadata": {
    "id": "rf0x8svT0G2r"
   },
   "source": []
  },
  {
   "cell_type": "markdown",
   "id": "congressional-knock",
   "metadata": {
    "id": "congressional-knock"
   },
   "source": [
    "## Business Insights and Recommendations"
   ]
  },
  {
   "cell_type": "markdown",
   "id": "Am_0CWgMeXxY",
   "metadata": {
    "id": "Am_0CWgMeXxY"
   },
   "source": [
    "* Based on our analysis we can say that  approval process has the following features important. :\n",
    "\n",
    "    1-**Education of Employee - High School:** Applicants with a high school education level are influential in the prediction.\n",
    "\n",
    "    2-**Has Job Experience - No**: Applicants with no job experience seem to impact the visa approval status.\n",
    "\n",
    "    3-**Unit of Wage - Hour:** The unit of wage being hourly is a significant factor.\n",
    "\n",
    "    4-**Education of Employee - Bachelors:** Applicants with a bachelor's degree are also considered in the prediction.\n",
    "\n",
    "    5-**Continent - Europe:** The continent being Europe seems to play a role in the prediction.\n",
    "\n",
    "    6-**Prevailing Wage:** The prevailing wage is an important factor in determining the visa approval status.\n",
    "\n",
    "    7-**Has Job Experience - Yes:** On the other hand, applicants with job experience also contribute to the prediction.\n",
    "\n"
   ]
  },
  {
   "cell_type": "markdown",
   "id": "0hVIlE4dzz9i",
   "metadata": {
    "id": "0hVIlE4dzz9i"
   },
   "source": [
    "Based on the information provided and the identified feature importances, here are some business insights and recommendations:\n",
    "\n",
    "* **Education Level Impact**:\n",
    "\n",
    "    **Insight:** High school education appears to be a significant factor influencing the visa approval process.\n",
    "\n",
    "   **Recommendation:** Consider evaluating the educational qualifications of applicants, giving attention to those with high school education.\n",
    "\n",
    "* **Job Experience Consideration:**\n",
    "\n",
    "     **Insight:** The absence of job experience is identified as an important driver affecting visa approval.\n",
    "\n",
    "     **Recommendation:** Assess applicants without job experience carefully, as this factor may impact the approval decision.\n",
    "\n",
    "* **Wage Structure Matters:**\n",
    "\n",
    "     **Insight:** The unit of wage being hourly is highlighted as influential.\n",
    "\n",
    "     **Recommendation:** Pay attention to the wage structure, particularly for positions with hourly wages, as it appears to be a key feature in the decision-making process.\n",
    "\n",
    "* **Educational Attainment - Bachelor's Degree:**\n",
    "\n",
    "    **Insight:** Having a bachelor's degree is recognized as a factor affecting visa approval.\n",
    "\n",
    "    **Recommendation:** Place emphasis on applicants with a bachelor's degree, as this educational level may positively contribute to their chances of visa approval.\n",
    "\n",
    "* **Geographical Considerations:**\n",
    "\n",
    "  **Insight:** The continent, specifically Europe, is identified as a relevant feature.\n",
    "\n",
    "  **Recommendation:** Take into account the continent of origin, especially Europe, when evaluating visa applications. Consider regional variations and factors.\n",
    "\n",
    "  **Prevailing Wage Significance:**\n",
    "\n",
    "    **Insight:** Prevailing wage is highlighted as an important consideration.\n",
    "\n",
    "    **Recommendation:** Pay careful attention to the prevailing wage associated with the positions applied for, ensuring it aligns with the norms in the specific occupation and region.\n",
    "\n",
    " **Job Experience - Yes:**\n",
    "\n",
    "  **Insight:** Applicants with job experience also impact the visa approval process.\n",
    "        \n",
    "  **Recommendation:** Acknowledge the positive influence of job experience. Consider applicants with relevant work experience favorably during the evaluation process.\n",
    "\n",
    "**General Recommendations:**\n",
    "\n",
    "  * **Data-Driven Decision-Making:** Leverage the insights gained from machine learning models to inform decision-making in the visa approval process.\n",
    "  * **Continuous Monitoring:** Regularly update and monitor the model's performance to adapt to changes in application patterns and regulations.\n",
    "  * **Transparency and Fairness:** Ensure transparency in the decision-making process and maintain fairness in evaluating applications, avoiding bias based on individual features.\n",
    "  * **Communication with Applicants:** Clearly communicate the criteria for visa approval to applicants, providing guidance on areas that can strengthen their applications.\n",
    "\n",
    "By incorporating these insights and recommendations, EasyVisa can enhance the efficiency and effectiveness of the visa approval process, providing a more informed and data-driven approach to decision-making."
   ]
  },
  {
   "cell_type": "markdown",
   "id": "4kJHJ56seYnH",
   "metadata": {
    "id": "4kJHJ56seYnH"
   },
   "source": [
    "___"
   ]
  }
 ],
 "metadata": {
  "colab": {
   "provenance": [],
   "toc_visible": true
  },
  "kernelspec": {
   "display_name": "Python 3 (ipykernel)",
   "language": "python",
   "name": "python3"
  },
  "language_info": {
   "codemirror_mode": {
    "name": "ipython",
    "version": 3
   },
   "file_extension": ".py",
   "mimetype": "text/x-python",
   "name": "python",
   "nbconvert_exporter": "python",
   "pygments_lexer": "ipython3",
   "version": "3.10.13"
  }
 },
 "nbformat": 4,
 "nbformat_minor": 5
}
